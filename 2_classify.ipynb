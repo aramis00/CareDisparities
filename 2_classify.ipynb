{
  "cells": [
    {
      "metadata": {
        "id": "6ac74d2c4769e77a"
      },
      "cell_type": "markdown",
      "source": [
        "<a href=\"https://colab.research.google.com/github/thesteve0/impatient-computer-vision/blob/main/2_classify_embed.ipynb\" target=\"_parent\"><img src=\"https://colab.research.google.com/assets/colab-badge.svg\" alt=\"Open In Colab\"/></a>\n",
        "\n",
        "# Classification and Embedding\n",
        "\n",
        "We are going to do our housekeep steps which will take a little while to run. While they are running we will go back to slides and I will introduce the topics.\n",
        "\n",
        "### Housekeeping\n",
        "Before we do anything else, we are need to change our machine time to one that has a GPU. Doing computer vision tasks with a CPU, except for some specific models, is extremely slow. One of the reasons we are using Colab is that you can get free access to a GPU for the workshop.\n",
        "\n",
        "**FROM THIS NOTEBOOK FORWARD YOU WILL NEED TO CONNECT TO THIS RUNTIME TYPE**\n",
        "\n",
        "Please:\n",
        "1. Go up to the top right of the browser\n",
        "2. Select \"Connect\"\n",
        "3. Then \"Change Runtime Type\"\n",
        "![change_runtime](https://github.com/thesteve0/impatient-computer-vision/blob/main/assets/2_pick_GPU1.png?raw=1)\n",
        "\n",
        "4. Pick T4 GPU\n",
        "5. Click Save\n",
        "![pick GPU](https://github.com/thesteve0/impatient-computer-vision/blob/main/assets/2_pick_GPU2.png?raw=1)\n",
        "\n",
        "6. When the runtime connects, it should look like this\n",
        "![running GPU](https://github.com/thesteve0/impatient-computer-vision/blob/main/assets/2_pick_GPU3.png?raw=1)\n",
        "\n",
        "\n",
        "Now Time to do our long running tasks\n",
        "1. Map the drive\n",
        "2. Load the dependencies\n",
        "3. Load the data"
      ],
      "id": "6ac74d2c4769e77a"
    },
    {
      "metadata": {
        "id": "d62882049a2cb251",
        "outputId": "8684464e-861d-4721-e505-11aec4704eb9",
        "colab": {
          "base_uri": "https://localhost:8080/"
        }
      },
      "cell_type": "code",
      "outputs": [
        {
          "output_type": "stream",
          "name": "stdout",
          "text": [
            "Mounted at /content/drive\n",
            "Collecting fiftyone==1.4.1\n",
            "  Downloading fiftyone-1.4.1-py3-none-any.whl.metadata (23 kB)\n",
            "Requirement already satisfied: torch in /usr/local/lib/python3.11/dist-packages (2.6.0+cu124)\n",
            "Requirement already satisfied: torchvision in /usr/local/lib/python3.11/dist-packages (0.21.0+cu124)\n",
            "Requirement already satisfied: umap-learn in /usr/local/lib/python3.11/dist-packages (0.5.7)\n",
            "Collecting aiofiles (from fiftyone==1.4.1)\n",
            "  Downloading aiofiles-24.1.0-py3-none-any.whl.metadata (10 kB)\n",
            "Collecting argcomplete (from fiftyone==1.4.1)\n",
            "  Downloading argcomplete-3.6.2-py3-none-any.whl.metadata (16 kB)\n",
            "Requirement already satisfied: beautifulsoup4 in /usr/local/lib/python3.11/dist-packages (from fiftyone==1.4.1) (4.13.4)\n",
            "Collecting boto3 (from fiftyone==1.4.1)\n",
            "  Downloading boto3-1.38.14-py3-none-any.whl.metadata (6.6 kB)\n",
            "Requirement already satisfied: cachetools in /usr/local/lib/python3.11/dist-packages (from fiftyone==1.4.1) (5.5.2)\n",
            "Collecting dacite<1.8.0,>=1.6.0 (from fiftyone==1.4.1)\n",
            "  Downloading dacite-1.7.0-py3-none-any.whl.metadata (14 kB)\n",
            "Requirement already satisfied: Deprecated in /usr/local/lib/python3.11/dist-packages (from fiftyone==1.4.1) (1.2.18)\n",
            "Collecting ftfy (from fiftyone==1.4.1)\n",
            "  Downloading ftfy-6.3.1-py3-none-any.whl.metadata (7.3 kB)\n",
            "Requirement already satisfied: humanize in /usr/local/lib/python3.11/dist-packages (from fiftyone==1.4.1) (4.12.3)\n",
            "Collecting hypercorn>=0.13.2 (from fiftyone==1.4.1)\n",
            "  Downloading hypercorn-0.17.3-py3-none-any.whl.metadata (5.4 kB)\n",
            "Requirement already satisfied: Jinja2>=3 in /usr/local/lib/python3.11/dist-packages (from fiftyone==1.4.1) (3.1.6)\n",
            "Collecting kaleido!=0.2.1.post1 (from fiftyone==1.4.1)\n",
            "  Downloading kaleido-0.2.1-py2.py3-none-manylinux1_x86_64.whl.metadata (15 kB)\n",
            "Requirement already satisfied: matplotlib in /usr/local/lib/python3.11/dist-packages (from fiftyone==1.4.1) (3.10.0)\n",
            "Collecting mongoengine~=0.29.1 (from fiftyone==1.4.1)\n",
            "  Downloading mongoengine-0.29.1-py3-none-any.whl.metadata (6.7 kB)\n",
            "Collecting motor~=3.6.0 (from fiftyone==1.4.1)\n",
            "  Downloading motor-3.6.1-py3-none-any.whl.metadata (21 kB)\n",
            "Requirement already satisfied: numpy in /usr/local/lib/python3.11/dist-packages (from fiftyone==1.4.1) (2.0.2)\n",
            "Requirement already satisfied: packaging in /usr/local/lib/python3.11/dist-packages (from fiftyone==1.4.1) (24.2)\n",
            "Requirement already satisfied: pandas in /usr/local/lib/python3.11/dist-packages (from fiftyone==1.4.1) (2.2.2)\n",
            "Requirement already satisfied: Pillow>=6.2 in /usr/local/lib/python3.11/dist-packages (from fiftyone==1.4.1) (11.2.1)\n",
            "Requirement already satisfied: plotly>=4.14 in /usr/local/lib/python3.11/dist-packages (from fiftyone==1.4.1) (5.24.1)\n",
            "Collecting pprintpp (from fiftyone==1.4.1)\n",
            "  Downloading pprintpp-0.4.0-py2.py3-none-any.whl.metadata (7.9 kB)\n",
            "Requirement already satisfied: psutil in /usr/local/lib/python3.11/dist-packages (from fiftyone==1.4.1) (5.9.5)\n",
            "Collecting pymongo~=4.9.2 (from fiftyone==1.4.1)\n",
            "  Downloading pymongo-4.9.2-cp311-cp311-manylinux_2_17_x86_64.manylinux2014_x86_64.whl.metadata (22 kB)\n",
            "Requirement already satisfied: pytz in /usr/local/lib/python3.11/dist-packages (from fiftyone==1.4.1) (2025.2)\n",
            "Requirement already satisfied: PyYAML in /usr/local/lib/python3.11/dist-packages (from fiftyone==1.4.1) (6.0.2)\n",
            "Requirement already satisfied: regex in /usr/local/lib/python3.11/dist-packages (from fiftyone==1.4.1) (2024.11.6)\n",
            "Collecting retrying (from fiftyone==1.4.1)\n",
            "  Downloading retrying-1.3.4-py3-none-any.whl.metadata (6.9 kB)\n",
            "Collecting rtree (from fiftyone==1.4.1)\n",
            "  Downloading rtree-1.4.0-py3-none-manylinux2014_x86_64.manylinux_2_17_x86_64.whl.metadata (2.1 kB)\n",
            "Requirement already satisfied: scikit-learn in /usr/local/lib/python3.11/dist-packages (from fiftyone==1.4.1) (1.6.1)\n",
            "Requirement already satisfied: scikit-image in /usr/local/lib/python3.11/dist-packages (from fiftyone==1.4.1) (0.25.2)\n",
            "Requirement already satisfied: scipy in /usr/local/lib/python3.11/dist-packages (from fiftyone==1.4.1) (1.15.3)\n",
            "Requirement already satisfied: setuptools in /usr/local/lib/python3.11/dist-packages (from fiftyone==1.4.1) (75.2.0)\n",
            "Collecting sseclient-py<2,>=1.7.2 (from fiftyone==1.4.1)\n",
            "  Downloading sseclient_py-1.8.0-py2.py3-none-any.whl.metadata (2.0 kB)\n",
            "Collecting sse-starlette<1,>=0.10.3 (from fiftyone==1.4.1)\n",
            "  Downloading sse_starlette-0.10.3-py3-none-any.whl.metadata (4.3 kB)\n",
            "Collecting starlette>=0.24.0 (from fiftyone==1.4.1)\n",
            "  Downloading starlette-0.46.2-py3-none-any.whl.metadata (6.2 kB)\n",
            "Collecting strawberry-graphql (from fiftyone==1.4.1)\n",
            "  Downloading strawberry_graphql-0.268.1-py3-none-any.whl.metadata (7.7 kB)\n",
            "Requirement already satisfied: tabulate in /usr/local/lib/python3.11/dist-packages (from fiftyone==1.4.1) (0.9.0)\n",
            "Collecting xmltodict (from fiftyone==1.4.1)\n",
            "  Downloading xmltodict-0.14.2-py2.py3-none-any.whl.metadata (8.0 kB)\n",
            "Collecting universal-analytics-python3<2,>=1.0.1 (from fiftyone==1.4.1)\n",
            "  Downloading universal_analytics_python3-1.1.1-py3-none-any.whl.metadata (5.5 kB)\n",
            "Collecting pydash (from fiftyone==1.4.1)\n",
            "  Downloading pydash-8.0.5-py3-none-any.whl.metadata (4.5 kB)\n",
            "Collecting fiftyone-brain<0.21,>=0.20.1 (from fiftyone==1.4.1)\n",
            "  Downloading fiftyone_brain-0.20.1-py3-none-any.whl.metadata (4.8 kB)\n",
            "Collecting fiftyone-db<2.0,>=0.4 (from fiftyone==1.4.1)\n",
            "  Downloading fiftyone_db-1.1.7.tar.gz (7.9 kB)\n",
            "  Installing build dependencies ... \u001b[?25l\u001b[?25hdone\n",
            "  Getting requirements to build wheel ... \u001b[?25l\u001b[?25hdone\n",
            "  Preparing metadata (pyproject.toml) ... \u001b[?25l\u001b[?25hdone\n",
            "Collecting voxel51-eta<0.15,>=0.14.0 (from fiftyone==1.4.1)\n",
            "  Downloading voxel51_eta-0.14.0-py2.py3-none-any.whl.metadata (14 kB)\n",
            "Requirement already satisfied: opencv-python-headless in /usr/local/lib/python3.11/dist-packages (from fiftyone==1.4.1) (4.11.0.86)\n",
            "Requirement already satisfied: filelock in /usr/local/lib/python3.11/dist-packages (from torch) (3.18.0)\n",
            "Requirement already satisfied: typing-extensions>=4.10.0 in /usr/local/lib/python3.11/dist-packages (from torch) (4.13.2)\n",
            "Requirement already satisfied: networkx in /usr/local/lib/python3.11/dist-packages (from torch) (3.4.2)\n",
            "Requirement already satisfied: fsspec in /usr/local/lib/python3.11/dist-packages (from torch) (2025.3.2)\n",
            "Collecting nvidia-cuda-nvrtc-cu12==12.4.127 (from torch)\n",
            "  Downloading nvidia_cuda_nvrtc_cu12-12.4.127-py3-none-manylinux2014_x86_64.whl.metadata (1.5 kB)\n",
            "Collecting nvidia-cuda-runtime-cu12==12.4.127 (from torch)\n",
            "  Downloading nvidia_cuda_runtime_cu12-12.4.127-py3-none-manylinux2014_x86_64.whl.metadata (1.5 kB)\n",
            "Collecting nvidia-cuda-cupti-cu12==12.4.127 (from torch)\n",
            "  Downloading nvidia_cuda_cupti_cu12-12.4.127-py3-none-manylinux2014_x86_64.whl.metadata (1.6 kB)\n",
            "Collecting nvidia-cudnn-cu12==9.1.0.70 (from torch)\n",
            "  Downloading nvidia_cudnn_cu12-9.1.0.70-py3-none-manylinux2014_x86_64.whl.metadata (1.6 kB)\n",
            "Collecting nvidia-cublas-cu12==12.4.5.8 (from torch)\n",
            "  Downloading nvidia_cublas_cu12-12.4.5.8-py3-none-manylinux2014_x86_64.whl.metadata (1.5 kB)\n",
            "Collecting nvidia-cufft-cu12==11.2.1.3 (from torch)\n",
            "  Downloading nvidia_cufft_cu12-11.2.1.3-py3-none-manylinux2014_x86_64.whl.metadata (1.5 kB)\n",
            "Collecting nvidia-curand-cu12==10.3.5.147 (from torch)\n",
            "  Downloading nvidia_curand_cu12-10.3.5.147-py3-none-manylinux2014_x86_64.whl.metadata (1.5 kB)\n",
            "Collecting nvidia-cusolver-cu12==11.6.1.9 (from torch)\n",
            "  Downloading nvidia_cusolver_cu12-11.6.1.9-py3-none-manylinux2014_x86_64.whl.metadata (1.6 kB)\n",
            "Collecting nvidia-cusparse-cu12==12.3.1.170 (from torch)\n",
            "  Downloading nvidia_cusparse_cu12-12.3.1.170-py3-none-manylinux2014_x86_64.whl.metadata (1.6 kB)\n",
            "Requirement already satisfied: nvidia-cusparselt-cu12==0.6.2 in /usr/local/lib/python3.11/dist-packages (from torch) (0.6.2)\n",
            "Requirement already satisfied: nvidia-nccl-cu12==2.21.5 in /usr/local/lib/python3.11/dist-packages (from torch) (2.21.5)\n",
            "Requirement already satisfied: nvidia-nvtx-cu12==12.4.127 in /usr/local/lib/python3.11/dist-packages (from torch) (12.4.127)\n",
            "Collecting nvidia-nvjitlink-cu12==12.4.127 (from torch)\n",
            "  Downloading nvidia_nvjitlink_cu12-12.4.127-py3-none-manylinux2014_x86_64.whl.metadata (1.5 kB)\n",
            "Requirement already satisfied: triton==3.2.0 in /usr/local/lib/python3.11/dist-packages (from torch) (3.2.0)\n",
            "Requirement already satisfied: sympy==1.13.1 in /usr/local/lib/python3.11/dist-packages (from torch) (1.13.1)\n",
            "Requirement already satisfied: mpmath<1.4,>=1.1.0 in /usr/local/lib/python3.11/dist-packages (from sympy==1.13.1->torch) (1.3.0)\n",
            "Requirement already satisfied: numba>=0.51.2 in /usr/local/lib/python3.11/dist-packages (from umap-learn) (0.60.0)\n",
            "Requirement already satisfied: pynndescent>=0.5 in /usr/local/lib/python3.11/dist-packages (from umap-learn) (0.5.13)\n",
            "Requirement already satisfied: tqdm in /usr/local/lib/python3.11/dist-packages (from umap-learn) (4.67.1)\n",
            "Requirement already satisfied: h11 in /usr/local/lib/python3.11/dist-packages (from hypercorn>=0.13.2->fiftyone==1.4.1) (0.16.0)\n",
            "Requirement already satisfied: h2>=3.1.0 in /usr/local/lib/python3.11/dist-packages (from hypercorn>=0.13.2->fiftyone==1.4.1) (4.2.0)\n",
            "Collecting priority (from hypercorn>=0.13.2->fiftyone==1.4.1)\n",
            "  Downloading priority-2.0.0-py3-none-any.whl.metadata (6.6 kB)\n",
            "Collecting wsproto>=0.14.0 (from hypercorn>=0.13.2->fiftyone==1.4.1)\n",
            "  Downloading wsproto-1.2.0-py3-none-any.whl.metadata (5.6 kB)\n",
            "Requirement already satisfied: MarkupSafe>=2.0 in /usr/local/lib/python3.11/dist-packages (from Jinja2>=3->fiftyone==1.4.1) (3.0.2)\n",
            "Requirement already satisfied: llvmlite<0.44,>=0.43.0dev0 in /usr/local/lib/python3.11/dist-packages (from numba>=0.51.2->umap-learn) (0.43.0)\n",
            "Requirement already satisfied: tenacity>=6.2.0 in /usr/local/lib/python3.11/dist-packages (from plotly>=4.14->fiftyone==1.4.1) (9.1.2)\n",
            "Collecting dnspython<3.0.0,>=1.16.0 (from pymongo~=4.9.2->fiftyone==1.4.1)\n",
            "  Downloading dnspython-2.7.0-py3-none-any.whl.metadata (5.8 kB)\n",
            "Requirement already satisfied: joblib>=0.11 in /usr/local/lib/python3.11/dist-packages (from pynndescent>=0.5->umap-learn) (1.5.0)\n",
            "Requirement already satisfied: threadpoolctl>=3.1.0 in /usr/local/lib/python3.11/dist-packages (from scikit-learn->fiftyone==1.4.1) (3.6.0)\n",
            "Requirement already satisfied: anyio<5,>=3.6.2 in /usr/local/lib/python3.11/dist-packages (from starlette>=0.24.0->fiftyone==1.4.1) (4.9.0)\n",
            "Requirement already satisfied: httpx>=0.10.0 in /usr/local/lib/python3.11/dist-packages (from universal-analytics-python3<2,>=1.0.1->fiftyone==1.4.1) (0.28.1)\n",
            "Requirement already satisfied: dill in /usr/local/lib/python3.11/dist-packages (from voxel51-eta<0.15,>=0.14.0->fiftyone==1.4.1) (0.3.7)\n",
            "Requirement already satisfied: future in /usr/local/lib/python3.11/dist-packages (from voxel51-eta<0.15,>=0.14.0->fiftyone==1.4.1) (1.0.0)\n",
            "Requirement already satisfied: glob2 in /usr/local/lib/python3.11/dist-packages (from voxel51-eta<0.15,>=0.14.0->fiftyone==1.4.1) (0.7)\n",
            "Collecting jsonlines (from voxel51-eta<0.15,>=0.14.0->fiftyone==1.4.1)\n",
            "  Downloading jsonlines-4.0.0-py3-none-any.whl.metadata (1.6 kB)\n",
            "Collecting py7zr (from voxel51-eta<0.15,>=0.14.0->fiftyone==1.4.1)\n",
            "  Downloading py7zr-0.22.0-py3-none-any.whl.metadata (16 kB)\n",
            "Requirement already satisfied: python-dateutil in /usr/local/lib/python3.11/dist-packages (from voxel51-eta<0.15,>=0.14.0->fiftyone==1.4.1) (2.9.0.post0)\n",
            "Collecting rarfile (from voxel51-eta<0.15,>=0.14.0->fiftyone==1.4.1)\n",
            "  Downloading rarfile-4.2-py3-none-any.whl.metadata (4.4 kB)\n",
            "Requirement already satisfied: requests in /usr/local/lib/python3.11/dist-packages (from voxel51-eta<0.15,>=0.14.0->fiftyone==1.4.1) (2.32.3)\n",
            "Requirement already satisfied: six in /usr/local/lib/python3.11/dist-packages (from voxel51-eta<0.15,>=0.14.0->fiftyone==1.4.1) (1.17.0)\n",
            "Requirement already satisfied: sortedcontainers in /usr/local/lib/python3.11/dist-packages (from voxel51-eta<0.15,>=0.14.0->fiftyone==1.4.1) (2.4.0)\n",
            "Requirement already satisfied: tzlocal in /usr/local/lib/python3.11/dist-packages (from voxel51-eta<0.15,>=0.14.0->fiftyone==1.4.1) (5.3.1)\n",
            "Requirement already satisfied: urllib3 in /usr/local/lib/python3.11/dist-packages (from voxel51-eta<0.15,>=0.14.0->fiftyone==1.4.1) (2.4.0)\n",
            "Requirement already satisfied: soupsieve>1.2 in /usr/local/lib/python3.11/dist-packages (from beautifulsoup4->fiftyone==1.4.1) (2.7)\n",
            "Collecting botocore<1.39.0,>=1.38.14 (from boto3->fiftyone==1.4.1)\n",
            "  Downloading botocore-1.38.14-py3-none-any.whl.metadata (5.7 kB)\n",
            "Collecting jmespath<2.0.0,>=0.7.1 (from boto3->fiftyone==1.4.1)\n",
            "  Downloading jmespath-1.0.1-py3-none-any.whl.metadata (7.6 kB)\n",
            "Collecting s3transfer<0.13.0,>=0.12.0 (from boto3->fiftyone==1.4.1)\n",
            "  Downloading s3transfer-0.12.0-py3-none-any.whl.metadata (1.7 kB)\n",
            "Requirement already satisfied: wrapt<2,>=1.10 in /usr/local/lib/python3.11/dist-packages (from Deprecated->fiftyone==1.4.1) (1.17.2)\n",
            "Requirement already satisfied: wcwidth in /usr/local/lib/python3.11/dist-packages (from ftfy->fiftyone==1.4.1) (0.2.13)\n",
            "Requirement already satisfied: contourpy>=1.0.1 in /usr/local/lib/python3.11/dist-packages (from matplotlib->fiftyone==1.4.1) (1.3.2)\n",
            "Requirement already satisfied: cycler>=0.10 in /usr/local/lib/python3.11/dist-packages (from matplotlib->fiftyone==1.4.1) (0.12.1)\n",
            "Requirement already satisfied: fonttools>=4.22.0 in /usr/local/lib/python3.11/dist-packages (from matplotlib->fiftyone==1.4.1) (4.57.0)\n",
            "Requirement already satisfied: kiwisolver>=1.3.1 in /usr/local/lib/python3.11/dist-packages (from matplotlib->fiftyone==1.4.1) (1.4.8)\n",
            "Requirement already satisfied: pyparsing>=2.3.1 in /usr/local/lib/python3.11/dist-packages (from matplotlib->fiftyone==1.4.1) (3.2.3)\n",
            "Requirement already satisfied: tzdata>=2022.7 in /usr/local/lib/python3.11/dist-packages (from pandas->fiftyone==1.4.1) (2025.2)\n",
            "Requirement already satisfied: imageio!=2.35.0,>=2.33 in /usr/local/lib/python3.11/dist-packages (from scikit-image->fiftyone==1.4.1) (2.37.0)\n",
            "Requirement already satisfied: tifffile>=2022.8.12 in /usr/local/lib/python3.11/dist-packages (from scikit-image->fiftyone==1.4.1) (2025.3.30)\n",
            "Requirement already satisfied: lazy-loader>=0.4 in /usr/local/lib/python3.11/dist-packages (from scikit-image->fiftyone==1.4.1) (0.4)\n",
            "Collecting graphql-core<3.4.0,>=3.2.0 (from strawberry-graphql->fiftyone==1.4.1)\n",
            "  Downloading graphql_core-3.2.6-py3-none-any.whl.metadata (11 kB)\n",
            "Requirement already satisfied: idna>=2.8 in /usr/local/lib/python3.11/dist-packages (from anyio<5,>=3.6.2->starlette>=0.24.0->fiftyone==1.4.1) (3.10)\n",
            "Requirement already satisfied: sniffio>=1.1 in /usr/local/lib/python3.11/dist-packages (from anyio<5,>=3.6.2->starlette>=0.24.0->fiftyone==1.4.1) (1.3.1)\n",
            "Requirement already satisfied: hyperframe<7,>=6.1 in /usr/local/lib/python3.11/dist-packages (from h2>=3.1.0->hypercorn>=0.13.2->fiftyone==1.4.1) (6.1.0)\n",
            "Requirement already satisfied: hpack<5,>=4.1 in /usr/local/lib/python3.11/dist-packages (from h2>=3.1.0->hypercorn>=0.13.2->fiftyone==1.4.1) (4.1.0)\n",
            "Requirement already satisfied: certifi in /usr/local/lib/python3.11/dist-packages (from httpx>=0.10.0->universal-analytics-python3<2,>=1.0.1->fiftyone==1.4.1) (2025.4.26)\n",
            "Requirement already satisfied: httpcore==1.* in /usr/local/lib/python3.11/dist-packages (from httpx>=0.10.0->universal-analytics-python3<2,>=1.0.1->fiftyone==1.4.1) (1.0.9)\n",
            "Requirement already satisfied: attrs>=19.2.0 in /usr/local/lib/python3.11/dist-packages (from jsonlines->voxel51-eta<0.15,>=0.14.0->fiftyone==1.4.1) (25.3.0)\n",
            "Collecting texttable (from py7zr->voxel51-eta<0.15,>=0.14.0->fiftyone==1.4.1)\n",
            "  Downloading texttable-1.7.0-py2.py3-none-any.whl.metadata (9.8 kB)\n",
            "Requirement already satisfied: pycryptodomex>=3.16.0 in /usr/local/lib/python3.11/dist-packages (from py7zr->voxel51-eta<0.15,>=0.14.0->fiftyone==1.4.1) (3.22.0)\n",
            "Collecting pyzstd>=0.15.9 (from py7zr->voxel51-eta<0.15,>=0.14.0->fiftyone==1.4.1)\n",
            "  Downloading pyzstd-0.17.0-cp311-cp311-manylinux_2_17_x86_64.manylinux2014_x86_64.whl.metadata (2.5 kB)\n",
            "Collecting pyppmd<1.2.0,>=1.1.0 (from py7zr->voxel51-eta<0.15,>=0.14.0->fiftyone==1.4.1)\n",
            "  Downloading pyppmd-1.1.1-cp311-cp311-manylinux_2_17_x86_64.manylinux2014_x86_64.whl.metadata (5.5 kB)\n",
            "Collecting pybcj<1.1.0,>=1.0.0 (from py7zr->voxel51-eta<0.15,>=0.14.0->fiftyone==1.4.1)\n",
            "  Downloading pybcj-1.0.6-cp311-cp311-manylinux_2_17_x86_64.manylinux2014_x86_64.whl.metadata (3.7 kB)\n",
            "Collecting multivolumefile>=0.2.3 (from py7zr->voxel51-eta<0.15,>=0.14.0->fiftyone==1.4.1)\n",
            "  Downloading multivolumefile-0.2.3-py3-none-any.whl.metadata (6.3 kB)\n",
            "Collecting inflate64<1.1.0,>=1.0.0 (from py7zr->voxel51-eta<0.15,>=0.14.0->fiftyone==1.4.1)\n",
            "  Downloading inflate64-1.0.1-cp311-cp311-manylinux_2_17_x86_64.manylinux2014_x86_64.whl.metadata (3.8 kB)\n",
            "Collecting brotli>=1.1.0 (from py7zr->voxel51-eta<0.15,>=0.14.0->fiftyone==1.4.1)\n",
            "  Downloading Brotli-1.1.0-cp311-cp311-manylinux_2_17_x86_64.manylinux2014_x86_64.whl.metadata (5.5 kB)\n",
            "Requirement already satisfied: charset-normalizer<4,>=2 in /usr/local/lib/python3.11/dist-packages (from requests->voxel51-eta<0.15,>=0.14.0->fiftyone==1.4.1) (3.4.2)\n",
            "Downloading fiftyone-1.4.1-py3-none-any.whl (10.8 MB)\n",
            "\u001b[2K   \u001b[90m━━━━━━━━━━━━━━━━━━━━━━━━━━━━━━━━━━━━━━━━\u001b[0m \u001b[32m10.8/10.8 MB\u001b[0m \u001b[31m113.1 MB/s\u001b[0m eta \u001b[36m0:00:00\u001b[0m\n",
            "\u001b[?25hDownloading nvidia_cublas_cu12-12.4.5.8-py3-none-manylinux2014_x86_64.whl (363.4 MB)\n",
            "\u001b[2K   \u001b[90m━━━━━━━━━━━━━━━━━━━━━━━━━━━━━━━━━━━━━━━━\u001b[0m \u001b[32m363.4/363.4 MB\u001b[0m \u001b[31m3.9 MB/s\u001b[0m eta \u001b[36m0:00:00\u001b[0m\n",
            "\u001b[?25hDownloading nvidia_cuda_cupti_cu12-12.4.127-py3-none-manylinux2014_x86_64.whl (13.8 MB)\n",
            "\u001b[2K   \u001b[90m━━━━━━━━━━━━━━━━━━━━━━━━━━━━━━━━━━━━━━━━\u001b[0m \u001b[32m13.8/13.8 MB\u001b[0m \u001b[31m123.9 MB/s\u001b[0m eta \u001b[36m0:00:00\u001b[0m\n",
            "\u001b[?25hDownloading nvidia_cuda_nvrtc_cu12-12.4.127-py3-none-manylinux2014_x86_64.whl (24.6 MB)\n",
            "\u001b[2K   \u001b[90m━━━━━━━━━━━━━━━━━━━━━━━━━━━━━━━━━━━━━━━━\u001b[0m \u001b[32m24.6/24.6 MB\u001b[0m \u001b[31m86.1 MB/s\u001b[0m eta \u001b[36m0:00:00\u001b[0m\n",
            "\u001b[?25hDownloading nvidia_cuda_runtime_cu12-12.4.127-py3-none-manylinux2014_x86_64.whl (883 kB)\n",
            "\u001b[2K   \u001b[90m━━━━━━━━━━━━━━━━━━━━━━━━━━━━━━━━━━━━━━━━\u001b[0m \u001b[32m883.7/883.7 kB\u001b[0m \u001b[31m65.6 MB/s\u001b[0m eta \u001b[36m0:00:00\u001b[0m\n",
            "\u001b[?25hDownloading nvidia_cudnn_cu12-9.1.0.70-py3-none-manylinux2014_x86_64.whl (664.8 MB)\n",
            "\u001b[2K   \u001b[90m━━━━━━━━━━━━━━━━━━━━━━━━━━━━━━━━━━━━━━━━\u001b[0m \u001b[32m664.8/664.8 MB\u001b[0m \u001b[31m2.7 MB/s\u001b[0m eta \u001b[36m0:00:00\u001b[0m\n",
            "\u001b[?25hDownloading nvidia_cufft_cu12-11.2.1.3-py3-none-manylinux2014_x86_64.whl (211.5 MB)\n",
            "\u001b[2K   \u001b[90m━━━━━━━━━━━━━━━━━━━━━━━━━━━━━━━━━━━━━━━━\u001b[0m \u001b[32m211.5/211.5 MB\u001b[0m \u001b[31m5.3 MB/s\u001b[0m eta \u001b[36m0:00:00\u001b[0m\n",
            "\u001b[?25hDownloading nvidia_curand_cu12-10.3.5.147-py3-none-manylinux2014_x86_64.whl (56.3 MB)\n",
            "\u001b[2K   \u001b[90m━━━━━━━━━━━━━━━━━━━━━━━━━━━━━━━━━━━━━━━━\u001b[0m \u001b[32m56.3/56.3 MB\u001b[0m \u001b[31m12.8 MB/s\u001b[0m eta \u001b[36m0:00:00\u001b[0m\n",
            "\u001b[?25hDownloading nvidia_cusolver_cu12-11.6.1.9-py3-none-manylinux2014_x86_64.whl (127.9 MB)\n",
            "\u001b[2K   \u001b[90m━━━━━━━━━━━━━━━━━━━━━━━━━━━━━━━━━━━━━━━━\u001b[0m \u001b[32m127.9/127.9 MB\u001b[0m \u001b[31m5.9 MB/s\u001b[0m eta \u001b[36m0:00:00\u001b[0m\n",
            "\u001b[?25hDownloading nvidia_cusparse_cu12-12.3.1.170-py3-none-manylinux2014_x86_64.whl (207.5 MB)\n",
            "\u001b[2K   \u001b[90m━━━━━━━━━━━━━━━━━━━━━━━━━━━━━━━━━━━━━━━━\u001b[0m \u001b[32m207.5/207.5 MB\u001b[0m \u001b[31m6.0 MB/s\u001b[0m eta \u001b[36m0:00:00\u001b[0m\n",
            "\u001b[?25hDownloading nvidia_nvjitlink_cu12-12.4.127-py3-none-manylinux2014_x86_64.whl (21.1 MB)\n",
            "\u001b[2K   \u001b[90m━━━━━━━━━━━━━━━━━━━━━━━━━━━━━━━━━━━━━━━━\u001b[0m \u001b[32m21.1/21.1 MB\u001b[0m \u001b[31m98.4 MB/s\u001b[0m eta \u001b[36m0:00:00\u001b[0m\n",
            "\u001b[?25hDownloading dacite-1.7.0-py3-none-any.whl (12 kB)\n",
            "Downloading fiftyone_brain-0.20.1-py3-none-any.whl (110 kB)\n",
            "\u001b[2K   \u001b[90m━━━━━━━━━━━━━━━━━━━━━━━━━━━━━━━━━━━━━━━━\u001b[0m \u001b[32m110.9/110.9 kB\u001b[0m \u001b[31m11.0 MB/s\u001b[0m eta \u001b[36m0:00:00\u001b[0m\n",
            "\u001b[?25hDownloading hypercorn-0.17.3-py3-none-any.whl (61 kB)\n",
            "\u001b[2K   \u001b[90m━━━━━━━━━━━━━━━━━━━━━━━━━━━━━━━━━━━━━━━━\u001b[0m \u001b[32m61.7/61.7 kB\u001b[0m \u001b[31m5.4 MB/s\u001b[0m eta \u001b[36m0:00:00\u001b[0m\n",
            "\u001b[?25hDownloading kaleido-0.2.1-py2.py3-none-manylinux1_x86_64.whl (79.9 MB)\n",
            "\u001b[2K   \u001b[90m━━━━━━━━━━━━━━━━━━━━━━━━━━━━━━━━━━━━━━━━\u001b[0m \u001b[32m79.9/79.9 MB\u001b[0m \u001b[31m9.0 MB/s\u001b[0m eta \u001b[36m0:00:00\u001b[0m\n",
            "\u001b[?25hDownloading mongoengine-0.29.1-py3-none-any.whl (112 kB)\n",
            "\u001b[2K   \u001b[90m━━━━━━━━━━━━━━━━━━━━━━━━━━━━━━━━━━━━━━━━\u001b[0m \u001b[32m112.4/112.4 kB\u001b[0m \u001b[31m10.4 MB/s\u001b[0m eta \u001b[36m0:00:00\u001b[0m\n",
            "\u001b[?25hDownloading motor-3.6.1-py3-none-any.whl (74 kB)\n",
            "\u001b[2K   \u001b[90m━━━━━━━━━━━━━━━━━━━━━━━━━━━━━━━━━━━━━━━━\u001b[0m \u001b[32m74.8/74.8 kB\u001b[0m \u001b[31m5.2 MB/s\u001b[0m eta \u001b[36m0:00:00\u001b[0m\n",
            "\u001b[?25hDownloading pymongo-4.9.2-cp311-cp311-manylinux_2_17_x86_64.manylinux2014_x86_64.whl (1.7 MB)\n",
            "\u001b[2K   \u001b[90m━━━━━━━━━━━━━━━━━━━━━━━━━━━━━━━━━━━━━━━━\u001b[0m \u001b[32m1.7/1.7 MB\u001b[0m \u001b[31m54.9 MB/s\u001b[0m eta \u001b[36m0:00:00\u001b[0m\n",
            "\u001b[?25hDownloading sse_starlette-0.10.3-py3-none-any.whl (8.0 kB)\n",
            "Downloading sseclient_py-1.8.0-py2.py3-none-any.whl (8.8 kB)\n",
            "Downloading starlette-0.46.2-py3-none-any.whl (72 kB)\n",
            "\u001b[2K   \u001b[90m━━━━━━━━━━━━━━━━━━━━━━━━━━━━━━━━━━━━━━━━\u001b[0m \u001b[32m72.0/72.0 kB\u001b[0m \u001b[31m6.8 MB/s\u001b[0m eta \u001b[36m0:00:00\u001b[0m\n",
            "\u001b[?25hDownloading universal_analytics_python3-1.1.1-py3-none-any.whl (10 kB)\n",
            "Downloading voxel51_eta-0.14.0-py2.py3-none-any.whl (942 kB)\n",
            "\u001b[2K   \u001b[90m━━━━━━━━━━━━━━━━━━━━━━━━━━━━━━━━━━━━━━━━\u001b[0m \u001b[32m943.0/943.0 kB\u001b[0m \u001b[31m52.8 MB/s\u001b[0m eta \u001b[36m0:00:00\u001b[0m\n",
            "\u001b[?25hDownloading aiofiles-24.1.0-py3-none-any.whl (15 kB)\n",
            "Downloading argcomplete-3.6.2-py3-none-any.whl (43 kB)\n",
            "\u001b[2K   \u001b[90m━━━━━━━━━━━━━━━━━━━━━━━━━━━━━━━━━━━━━━━━\u001b[0m \u001b[32m43.7/43.7 kB\u001b[0m \u001b[31m4.3 MB/s\u001b[0m eta \u001b[36m0:00:00\u001b[0m\n",
            "\u001b[?25hDownloading boto3-1.38.14-py3-none-any.whl (139 kB)\n",
            "\u001b[2K   \u001b[90m━━━━━━━━━━━━━━━━━━━━━━━━━━━━━━━━━━━━━━━━\u001b[0m \u001b[32m139.9/139.9 kB\u001b[0m \u001b[31m12.1 MB/s\u001b[0m eta \u001b[36m0:00:00\u001b[0m\n",
            "\u001b[?25hDownloading ftfy-6.3.1-py3-none-any.whl (44 kB)\n",
            "\u001b[2K   \u001b[90m━━━━━━━━━━━━━━━━━━━━━━━━━━━━━━━━━━━━━━━━\u001b[0m \u001b[32m44.8/44.8 kB\u001b[0m \u001b[31m3.9 MB/s\u001b[0m eta \u001b[36m0:00:00\u001b[0m\n",
            "\u001b[?25hDownloading pprintpp-0.4.0-py2.py3-none-any.whl (16 kB)\n",
            "Downloading pydash-8.0.5-py3-none-any.whl (102 kB)\n",
            "\u001b[2K   \u001b[90m━━━━━━━━━━━━━━━━━━━━━━━━━━━━━━━━━━━━━━━━\u001b[0m \u001b[32m102.1/102.1 kB\u001b[0m \u001b[31m9.6 MB/s\u001b[0m eta \u001b[36m0:00:00\u001b[0m\n",
            "\u001b[?25hDownloading retrying-1.3.4-py3-none-any.whl (11 kB)\n",
            "Downloading rtree-1.4.0-py3-none-manylinux2014_x86_64.manylinux_2_17_x86_64.whl (541 kB)\n",
            "\u001b[2K   \u001b[90m━━━━━━━━━━━━━━━━━━━━━━━━━━━━━━━━━━━━━━━━\u001b[0m \u001b[32m541.1/541.1 kB\u001b[0m \u001b[31m39.5 MB/s\u001b[0m eta \u001b[36m0:00:00\u001b[0m\n",
            "\u001b[?25hDownloading strawberry_graphql-0.268.1-py3-none-any.whl (298 kB)\n",
            "\u001b[2K   \u001b[90m━━━━━━━━━━━━━━━━━━━━━━━━━━━━━━━━━━━━━━━━\u001b[0m \u001b[32m298.7/298.7 kB\u001b[0m \u001b[31m24.8 MB/s\u001b[0m eta \u001b[36m0:00:00\u001b[0m\n",
            "\u001b[?25hDownloading xmltodict-0.14.2-py2.py3-none-any.whl (10.0 kB)\n",
            "Downloading botocore-1.38.14-py3-none-any.whl (13.6 MB)\n",
            "\u001b[2K   \u001b[90m━━━━━━━━━━━━━━━━━━━━━━━━━━━━━━━━━━━━━━━━\u001b[0m \u001b[32m13.6/13.6 MB\u001b[0m \u001b[31m93.1 MB/s\u001b[0m eta \u001b[36m0:00:00\u001b[0m\n",
            "\u001b[?25hDownloading dnspython-2.7.0-py3-none-any.whl (313 kB)\n",
            "\u001b[2K   \u001b[90m━━━━━━━━━━━━━━━━━━━━━━━━━━━━━━━━━━━━━━━━\u001b[0m \u001b[32m313.6/313.6 kB\u001b[0m \u001b[31m25.1 MB/s\u001b[0m eta \u001b[36m0:00:00\u001b[0m\n",
            "\u001b[?25hDownloading graphql_core-3.2.6-py3-none-any.whl (203 kB)\n",
            "\u001b[2K   \u001b[90m━━━━━━━━━━━━━━━━━━━━━━━━━━━━━━━━━━━━━━━━\u001b[0m \u001b[32m203.4/203.4 kB\u001b[0m \u001b[31m18.7 MB/s\u001b[0m eta \u001b[36m0:00:00\u001b[0m\n",
            "\u001b[?25hDownloading jmespath-1.0.1-py3-none-any.whl (20 kB)\n",
            "Downloading s3transfer-0.12.0-py3-none-any.whl (84 kB)\n",
            "\u001b[2K   \u001b[90m━━━━━━━━━━━━━━━━━━━━━━━━━━━━━━━━━━━━━━━━\u001b[0m \u001b[32m84.8/84.8 kB\u001b[0m \u001b[31m7.8 MB/s\u001b[0m eta \u001b[36m0:00:00\u001b[0m\n",
            "\u001b[?25hDownloading wsproto-1.2.0-py3-none-any.whl (24 kB)\n",
            "Downloading jsonlines-4.0.0-py3-none-any.whl (8.7 kB)\n",
            "Downloading priority-2.0.0-py3-none-any.whl (8.9 kB)\n",
            "Downloading py7zr-0.22.0-py3-none-any.whl (67 kB)\n",
            "\u001b[2K   \u001b[90m━━━━━━━━━━━━━━━━━━━━━━━━━━━━━━━━━━━━━━━━\u001b[0m \u001b[32m67.9/67.9 kB\u001b[0m \u001b[31m7.2 MB/s\u001b[0m eta \u001b[36m0:00:00\u001b[0m\n",
            "\u001b[?25hDownloading rarfile-4.2-py3-none-any.whl (29 kB)\n",
            "Downloading Brotli-1.1.0-cp311-cp311-manylinux_2_17_x86_64.manylinux2014_x86_64.whl (2.9 MB)\n",
            "\u001b[2K   \u001b[90m━━━━━━━━━━━━━━━━━━━━━━━━━━━━━━━━━━━━━━━━\u001b[0m \u001b[32m2.9/2.9 MB\u001b[0m \u001b[31m79.0 MB/s\u001b[0m eta \u001b[36m0:00:00\u001b[0m\n",
            "\u001b[?25hDownloading inflate64-1.0.1-cp311-cp311-manylinux_2_17_x86_64.manylinux2014_x86_64.whl (96 kB)\n",
            "\u001b[2K   \u001b[90m━━━━━━━━━━━━━━━━━━━━━━━━━━━━━━━━━━━━━━━━\u001b[0m \u001b[32m96.2/96.2 kB\u001b[0m \u001b[31m9.5 MB/s\u001b[0m eta \u001b[36m0:00:00\u001b[0m\n",
            "\u001b[?25hDownloading multivolumefile-0.2.3-py3-none-any.whl (17 kB)\n",
            "Downloading pybcj-1.0.6-cp311-cp311-manylinux_2_17_x86_64.manylinux2014_x86_64.whl (50 kB)\n",
            "\u001b[2K   \u001b[90m━━━━━━━━━━━━━━━━━━━━━━━━━━━━━━━━━━━━━━━━\u001b[0m \u001b[32m50.7/50.7 kB\u001b[0m \u001b[31m4.5 MB/s\u001b[0m eta \u001b[36m0:00:00\u001b[0m\n",
            "\u001b[?25hDownloading pyppmd-1.1.1-cp311-cp311-manylinux_2_17_x86_64.manylinux2014_x86_64.whl (141 kB)\n",
            "\u001b[2K   \u001b[90m━━━━━━━━━━━━━━━━━━━━━━━━━━━━━━━━━━━━━━━━\u001b[0m \u001b[32m141.3/141.3 kB\u001b[0m \u001b[31m13.0 MB/s\u001b[0m eta \u001b[36m0:00:00\u001b[0m\n",
            "\u001b[?25hDownloading pyzstd-0.17.0-cp311-cp311-manylinux_2_17_x86_64.manylinux2014_x86_64.whl (412 kB)\n",
            "\u001b[2K   \u001b[90m━━━━━━━━━━━━━━━━━━━━━━━━━━━━━━━━━━━━━━━━\u001b[0m \u001b[32m412.9/412.9 kB\u001b[0m \u001b[31m35.7 MB/s\u001b[0m eta \u001b[36m0:00:00\u001b[0m\n",
            "\u001b[?25hDownloading texttable-1.7.0-py2.py3-none-any.whl (10 kB)\n",
            "Building wheels for collected packages: fiftyone-db\n",
            "  Building wheel for fiftyone-db (pyproject.toml) ... \u001b[?25l\u001b[?25hdone\n",
            "  Created wheel for fiftyone-db: filename=fiftyone_db-1.1.7-py3-none-manylinux1_x86_64.whl size=42156243 sha256=8b28041af6f04a49f08eb47fb0808d1daec0316513d0699f5e81777ee32b6945\n",
            "  Stored in directory: /root/.cache/pip/wheels/bf/75/da/54cd52c92db9f0c4e88ca5efdbac2304b49927249c9c859b8d\n",
            "Successfully built fiftyone-db\n",
            "Installing collected packages: texttable, sseclient-py, pprintpp, kaleido, brotli, xmltodict, wsproto, rtree, retrying, rarfile, pyzstd, pyppmd, pydash, pybcj, priority, nvidia-nvjitlink-cu12, nvidia-curand-cu12, nvidia-cufft-cu12, nvidia-cuda-runtime-cu12, nvidia-cuda-nvrtc-cu12, nvidia-cuda-cupti-cu12, nvidia-cublas-cu12, multivolumefile, jsonlines, jmespath, inflate64, graphql-core, ftfy, fiftyone-db, dnspython, dacite, argcomplete, aiofiles, strawberry-graphql, starlette, pymongo, py7zr, nvidia-cusparse-cu12, nvidia-cudnn-cu12, hypercorn, botocore, voxel51-eta, universal-analytics-python3, sse-starlette, s3transfer, nvidia-cusolver-cu12, motor, mongoengine, fiftyone-brain, boto3, fiftyone\n",
            "  Attempting uninstall: nvidia-nvjitlink-cu12\n",
            "    Found existing installation: nvidia-nvjitlink-cu12 12.5.82\n",
            "    Uninstalling nvidia-nvjitlink-cu12-12.5.82:\n",
            "      Successfully uninstalled nvidia-nvjitlink-cu12-12.5.82\n",
            "  Attempting uninstall: nvidia-curand-cu12\n",
            "    Found existing installation: nvidia-curand-cu12 10.3.6.82\n",
            "    Uninstalling nvidia-curand-cu12-10.3.6.82:\n",
            "      Successfully uninstalled nvidia-curand-cu12-10.3.6.82\n",
            "  Attempting uninstall: nvidia-cufft-cu12\n",
            "    Found existing installation: nvidia-cufft-cu12 11.2.3.61\n",
            "    Uninstalling nvidia-cufft-cu12-11.2.3.61:\n",
            "      Successfully uninstalled nvidia-cufft-cu12-11.2.3.61\n",
            "  Attempting uninstall: nvidia-cuda-runtime-cu12\n",
            "    Found existing installation: nvidia-cuda-runtime-cu12 12.5.82\n",
            "    Uninstalling nvidia-cuda-runtime-cu12-12.5.82:\n",
            "      Successfully uninstalled nvidia-cuda-runtime-cu12-12.5.82\n",
            "  Attempting uninstall: nvidia-cuda-nvrtc-cu12\n",
            "    Found existing installation: nvidia-cuda-nvrtc-cu12 12.5.82\n",
            "    Uninstalling nvidia-cuda-nvrtc-cu12-12.5.82:\n",
            "      Successfully uninstalled nvidia-cuda-nvrtc-cu12-12.5.82\n",
            "  Attempting uninstall: nvidia-cuda-cupti-cu12\n",
            "    Found existing installation: nvidia-cuda-cupti-cu12 12.5.82\n",
            "    Uninstalling nvidia-cuda-cupti-cu12-12.5.82:\n",
            "      Successfully uninstalled nvidia-cuda-cupti-cu12-12.5.82\n",
            "  Attempting uninstall: nvidia-cublas-cu12\n",
            "    Found existing installation: nvidia-cublas-cu12 12.5.3.2\n",
            "    Uninstalling nvidia-cublas-cu12-12.5.3.2:\n",
            "      Successfully uninstalled nvidia-cublas-cu12-12.5.3.2\n",
            "  Attempting uninstall: nvidia-cusparse-cu12\n",
            "    Found existing installation: nvidia-cusparse-cu12 12.5.1.3\n",
            "    Uninstalling nvidia-cusparse-cu12-12.5.1.3:\n",
            "      Successfully uninstalled nvidia-cusparse-cu12-12.5.1.3\n",
            "  Attempting uninstall: nvidia-cudnn-cu12\n",
            "    Found existing installation: nvidia-cudnn-cu12 9.3.0.75\n",
            "    Uninstalling nvidia-cudnn-cu12-9.3.0.75:\n",
            "      Successfully uninstalled nvidia-cudnn-cu12-9.3.0.75\n",
            "  Attempting uninstall: nvidia-cusolver-cu12\n",
            "    Found existing installation: nvidia-cusolver-cu12 11.6.3.83\n",
            "    Uninstalling nvidia-cusolver-cu12-11.6.3.83:\n",
            "      Successfully uninstalled nvidia-cusolver-cu12-11.6.3.83\n",
            "Successfully installed aiofiles-24.1.0 argcomplete-3.6.2 boto3-1.38.14 botocore-1.38.14 brotli-1.1.0 dacite-1.7.0 dnspython-2.7.0 fiftyone-1.4.1 fiftyone-brain-0.20.1 fiftyone-db-1.1.7 ftfy-6.3.1 graphql-core-3.2.6 hypercorn-0.17.3 inflate64-1.0.1 jmespath-1.0.1 jsonlines-4.0.0 kaleido-0.2.1 mongoengine-0.29.1 motor-3.6.1 multivolumefile-0.2.3 nvidia-cublas-cu12-12.4.5.8 nvidia-cuda-cupti-cu12-12.4.127 nvidia-cuda-nvrtc-cu12-12.4.127 nvidia-cuda-runtime-cu12-12.4.127 nvidia-cudnn-cu12-9.1.0.70 nvidia-cufft-cu12-11.2.1.3 nvidia-curand-cu12-10.3.5.147 nvidia-cusolver-cu12-11.6.1.9 nvidia-cusparse-cu12-12.3.1.170 nvidia-nvjitlink-cu12-12.4.127 pprintpp-0.4.0 priority-2.0.0 py7zr-0.22.0 pybcj-1.0.6 pydash-8.0.5 pymongo-4.9.2 pyppmd-1.1.1 pyzstd-0.17.0 rarfile-4.2 retrying-1.3.4 rtree-1.4.0 s3transfer-0.12.0 sse-starlette-0.10.3 sseclient-py-1.8.0 starlette-0.46.2 strawberry-graphql-0.268.1 texttable-1.7.0 universal-analytics-python3-1.1.1 voxel51-eta-0.14.0 wsproto-1.2.0 xmltodict-0.14.2\n",
            "Importing samples...\n"
          ]
        },
        {
          "output_type": "stream",
          "name": "stderr",
          "text": [
            "INFO:fiftyone.utils.data.importers:Importing samples...\n"
          ]
        },
        {
          "output_type": "stream",
          "name": "stdout",
          "text": [
            " 100% |█████████████████| 300/300 [14.3ms elapsed, 0s remaining, 21.0K samples/s]     \n"
          ]
        },
        {
          "output_type": "stream",
          "name": "stderr",
          "text": [
            "INFO:eta.core.utils: 100% |█████████████████| 300/300 [14.3ms elapsed, 0s remaining, 21.0K samples/s]     \n"
          ]
        },
        {
          "output_type": "stream",
          "name": "stdout",
          "text": [
            "Name:        our-photos\n",
            "Media type:  image\n",
            "Num samples: 300\n",
            "Persistent:  False\n",
            "Tags:        []\n",
            "Sample fields:\n",
            "    id:               fiftyone.core.fields.ObjectIdField\n",
            "    filepath:         fiftyone.core.fields.StringField\n",
            "    tags:             fiftyone.core.fields.ListField(fiftyone.core.fields.StringField)\n",
            "    metadata:         fiftyone.core.fields.EmbeddedDocumentField(fiftyone.core.metadata.ImageMetadata)\n",
            "    created_at:       fiftyone.core.fields.DateTimeField\n",
            "    last_modified_at: fiftyone.core.fields.DateTimeField\n",
            "    open_clip_embed:  fiftyone.core.fields.VectorField\n",
            "    ground_truth:     fiftyone.core.fields.EmbeddedDocumentField(fiftyone.core.labels.Classification)\n"
          ]
        }
      ],
      "execution_count": 1,
      "source": [
        "from google.colab import drive\n",
        "drive.mount('/content/drive')\n",
        "\n",
        "!pip install fiftyone==1.4.1 torch torchvision umap-learn\n",
        "\n",
        "\n",
        "import fiftyone as fo\n",
        "\n",
        "name = \"our-photos\"\n",
        "dir = \"/content/drive/MyDrive/impatient-cv/flickr-labeled\"\n",
        "\n",
        "dataset = fo.Dataset.from_dir(\n",
        "    dataset_dir=dir,\n",
        "    dataset_type=fo.types.FiftyOneDataset,\n",
        "    name=name\n",
        ")\n",
        "\n",
        "print(dataset)"
      ],
      "id": "d62882049a2cb251"
    },
    {
      "metadata": {
        "id": "10bb2367138ac9fd"
      },
      "cell_type": "markdown",
      "source": [
        "## Classification\n",
        "\n",
        "As we discussed in the slides, Classification is the computer vision task where you try to assign an image to single class out of a list of classes. We are going to use a classification model that is the foundation for many other models and is still quite powerful - ResNet. We are going to use the simplement version, ResNet18, because:\n",
        "\n",
        "1. It doesn't require much GPU resources\n",
        "2. It is fast to compute\n",
        "\n",
        "There are many variations to ResNet where a number is appended to the name. This number usually represents the number of layers in the neural network.\n",
        "\n",
        "### Training data\n",
        "\n",
        "While ResNet18 has a specific architecture, to use it for predictions, the model needs to be trained on data. There are many foundational data sets in computer vision but, a partciularly common one is [ImageNet](https://www.image-net.org/index.php). This dataset has 1k classes and millions of annotated images.\n",
        "\n",
        "Please open the list of the [imagenet classes](https://deeplearning.cms.waikato.ac.nz/user-guide/class-maps/IMAGENET/) in another browser tab. We will be referring to this later in the notebook\n",
        "\n",
        "FiftyOne has a [dataset zoo](https://docs.voxel51.com/dataset_zoo/datasets.html) where many important computer vision datasets have been converted into FiftyOne format and are easy to download and view.\n",
        "\n",
        "Let's go ahead and download and view a small subset of the ImageNet Data, the [ImageNet Sample Data](https://docs.voxel51.com/dataset_zoo/datasets.html#imagenet-sample)"
      ],
      "id": "10bb2367138ac9fd"
    },
    {
      "metadata": {
        "jupyter": {
          "is_executing": true
        },
        "id": "f5b8e88ab46b2d09",
        "outputId": "df47a6cd-e34c-425d-a974-467eb64941bf",
        "colab": {
          "base_uri": "https://localhost:8080/",
          "height": 1000
        }
      },
      "cell_type": "code",
      "source": [
        "import fiftyone.zoo as foz\n",
        "\n",
        "imagenet_samples = foz.load_zoo_dataset(\"imagenet-sample\")\n",
        "\n",
        "session = fo.launch_app(imagenet_samples, auto=False)\n",
        "\n",
        "session.url\n"
      ],
      "id": "f5b8e88ab46b2d09",
      "outputs": [
        {
          "output_type": "stream",
          "name": "stdout",
          "text": [
            "Downloading dataset to '/root/fiftyone/imagenet-sample'\n"
          ]
        },
        {
          "output_type": "stream",
          "name": "stderr",
          "text": [
            "INFO:fiftyone.zoo.datasets:Downloading dataset to '/root/fiftyone/imagenet-sample'\n"
          ]
        },
        {
          "output_type": "stream",
          "name": "stdout",
          "text": [
            "Downloading dataset...\n"
          ]
        },
        {
          "output_type": "stream",
          "name": "stderr",
          "text": [
            "INFO:fiftyone.zoo.datasets.base:Downloading dataset...\n"
          ]
        },
        {
          "output_type": "stream",
          "name": "stdout",
          "text": [
            " 100% |████|  762.4Mb/762.4Mb [1.6s elapsed, 0s remaining, 570.8Mb/s]      \n"
          ]
        },
        {
          "output_type": "stream",
          "name": "stderr",
          "text": [
            "INFO:eta.core.utils: 100% |████|  762.4Mb/762.4Mb [1.6s elapsed, 0s remaining, 570.8Mb/s]      \n"
          ]
        },
        {
          "output_type": "stream",
          "name": "stdout",
          "text": [
            "Extracting dataset...\n"
          ]
        },
        {
          "output_type": "stream",
          "name": "stderr",
          "text": [
            "INFO:fiftyone.zoo.datasets.base:Extracting dataset...\n"
          ]
        },
        {
          "output_type": "stream",
          "name": "stdout",
          "text": [
            "Parsing dataset metadata\n"
          ]
        },
        {
          "output_type": "stream",
          "name": "stderr",
          "text": [
            "INFO:fiftyone.zoo.datasets.base:Parsing dataset metadata\n"
          ]
        },
        {
          "output_type": "stream",
          "name": "stdout",
          "text": [
            "Found 1000 samples\n"
          ]
        },
        {
          "output_type": "stream",
          "name": "stderr",
          "text": [
            "INFO:fiftyone.zoo.datasets.base:Found 1000 samples\n"
          ]
        },
        {
          "output_type": "stream",
          "name": "stdout",
          "text": [
            "Dataset info written to '/root/fiftyone/imagenet-sample/info.json'\n"
          ]
        },
        {
          "output_type": "stream",
          "name": "stderr",
          "text": [
            "INFO:fiftyone.zoo.datasets:Dataset info written to '/root/fiftyone/imagenet-sample/info.json'\n"
          ]
        },
        {
          "output_type": "stream",
          "name": "stdout",
          "text": [
            "Loading 'imagenet-sample'\n"
          ]
        },
        {
          "output_type": "stream",
          "name": "stderr",
          "text": [
            "INFO:fiftyone.zoo.datasets:Loading 'imagenet-sample'\n"
          ]
        },
        {
          "output_type": "stream",
          "name": "stdout",
          "text": [
            " 100% |███████████████| 1000/1000 [490.7ms elapsed, 0s remaining, 2.0K samples/s]      \n"
          ]
        },
        {
          "output_type": "stream",
          "name": "stderr",
          "text": [
            "INFO:eta.core.utils: 100% |███████████████| 1000/1000 [490.7ms elapsed, 0s remaining, 2.0K samples/s]      \n"
          ]
        },
        {
          "output_type": "stream",
          "name": "stdout",
          "text": [
            "Dataset 'imagenet-sample' created\n"
          ]
        },
        {
          "output_type": "stream",
          "name": "stderr",
          "text": [
            "INFO:fiftyone.zoo.datasets:Dataset 'imagenet-sample' created\n"
          ]
        },
        {
          "output_type": "stream",
          "name": "stdout",
          "text": [
            "Session launched. Run `session.show()` to open the App in a cell output.\n"
          ]
        },
        {
          "output_type": "stream",
          "name": "stderr",
          "text": [
            "INFO:fiftyone.core.session.session:Session launched. Run `session.show()` to open the App in a cell output.\n"
          ]
        },
        {
          "output_type": "stream",
          "name": "stdout",
          "text": [
            "\n",
            "Welcome to\n",
            "\n",
            "███████╗██╗███████╗████████╗██╗   ██╗ ██████╗ ███╗   ██╗███████╗\n",
            "██╔════╝██║██╔════╝╚══██╔══╝╚██╗ ██╔╝██╔═══██╗████╗  ██║██╔════╝\n",
            "█████╗  ██║█████╗     ██║    ╚████╔╝ ██║   ██║██╔██╗ ██║█████╗\n",
            "██╔══╝  ██║██╔══╝     ██║     ╚██╔╝  ██║   ██║██║╚██╗██║██╔══╝\n",
            "██║     ██║██║        ██║      ██║   ╚██████╔╝██║ ╚████║███████╗\n",
            "╚═╝     ╚═╝╚═╝        ╚═╝      ╚═╝    ╚═════╝ ╚═╝  ╚═══╝╚══════╝ v1.4.1\n",
            "\n",
            "If you're finding FiftyOne helpful, here's how you can get involved:\n",
            "\n",
            "|\n",
            "|  ⭐⭐⭐ Give the project a star on GitHub ⭐⭐⭐\n",
            "|  https://github.com/voxel51/fiftyone\n",
            "|\n",
            "|  🚀🚀🚀 Join the FiftyOne Discord community 🚀🚀🚀\n",
            "|  https://community.voxel51.com/\n",
            "|\n",
            "\n"
          ]
        },
        {
          "output_type": "stream",
          "name": "stderr",
          "text": [
            "INFO:fiftyone.core.session.session:\n",
            "Welcome to\n",
            "\n",
            "███████╗██╗███████╗████████╗██╗   ██╗ ██████╗ ███╗   ██╗███████╗\n",
            "██╔════╝██║██╔════╝╚══██╔══╝╚██╗ ██╔╝██╔═══██╗████╗  ██║██╔════╝\n",
            "█████╗  ██║█████╗     ██║    ╚████╔╝ ██║   ██║██╔██╗ ██║█████╗\n",
            "██╔══╝  ██║██╔══╝     ██║     ╚██╔╝  ██║   ██║██║╚██╗██║██╔══╝\n",
            "██║     ██║██║        ██║      ██║   ╚██████╔╝██║ ╚████║███████╗\n",
            "╚═╝     ╚═╝╚═╝        ╚═╝      ╚═╝    ╚═════╝ ╚═╝  ╚═══╝╚══════╝ v1.4.1\n",
            "\n",
            "If you're finding FiftyOne helpful, here's how you can get involved:\n",
            "\n",
            "|\n",
            "|  ⭐⭐⭐ Give the project a star on GitHub ⭐⭐⭐\n",
            "|  https://github.com/voxel51/fiftyone\n",
            "|\n",
            "|  🚀🚀🚀 Join the FiftyOne Discord community 🚀🚀🚀\n",
            "|  https://community.voxel51.com/\n",
            "|\n",
            "\n"
          ]
        },
        {
          "output_type": "execute_result",
          "data": {
            "text/plain": [
              "'https://5151-gpu-t4-s-laa75geddc9l-b.us-west4-1.prod.colab.dev?polling=true'"
            ],
            "application/vnd.google.colaboratory.intrinsic+json": {
              "type": "string"
            }
          },
          "metadata": {},
          "execution_count": 3
        }
      ],
      "execution_count": 3
    },
    {
      "metadata": {
        "id": "5d53686ea50c84dd"
      },
      "cell_type": "markdown",
      "source": [
        "### FiftyOne Model Zoo\n",
        "\n",
        "The computer vision platform we have been using, FiftyOne, also has a set of models already converted into a format that works with the rest of the FiftyOne platform. Typically, you would have to use library specific code, such as PyTorch, along with other code to specify the architecture to run a computer vision model. With FiftyOne, we can load the model in one line of code,  and then run it for classification (inference) with another line of code. Two lines of code and you are in business.\n",
        "\n",
        "#### ResNet18 in the model zoo\n",
        "\n",
        "We are going to load the PytTorch version of [ResNet18 model](https://docs.voxel51.com/model_zoo/models.html#resnet18-imagenet-torch) that was trained on ImageNet"
      ],
      "id": "5d53686ea50c84dd"
    },
    {
      "metadata": {
        "id": "35c7c114a8295159"
      },
      "cell_type": "code",
      "outputs": [],
      "execution_count": 12,
      "source": [
        "resnet18_imagenet_model = foz.load_zoo_model(\"resnet18-imagenet-torch\")\n"
      ],
      "id": "35c7c114a8295159"
    },
    {
      "cell_type": "code",
      "source": [
        "print(\"Has logits:\", resnet18_imagenet_model.has_logits)\n",
        "print(\"Return logits:\", resnet18_imagenet_model.return_logits)\n"
      ],
      "metadata": {
        "id": "XQ7VIN7qImtg",
        "outputId": "dec94d17-d476-4fdd-faf9-07b89c9f006b",
        "colab": {
          "base_uri": "https://localhost:8080/",
          "height": 180
        }
      },
      "id": "XQ7VIN7qImtg",
      "execution_count": 19,
      "outputs": [
        {
          "output_type": "stream",
          "name": "stdout",
          "text": [
            "Has logits: True\n"
          ]
        },
        {
          "output_type": "error",
          "ename": "AttributeError",
          "evalue": "'TorchvisionImageModel' object has no attribute 'return_logits'",
          "traceback": [
            "\u001b[0;31m---------------------------------------------------------------------------\u001b[0m",
            "\u001b[0;31mAttributeError\u001b[0m                            Traceback (most recent call last)",
            "\u001b[0;32m<ipython-input-19-f8320b9071c7>\u001b[0m in \u001b[0;36m<cell line: 0>\u001b[0;34m()\u001b[0m\n\u001b[1;32m      1\u001b[0m \u001b[0mprint\u001b[0m\u001b[0;34m(\u001b[0m\u001b[0;34m\"Has logits:\"\u001b[0m\u001b[0;34m,\u001b[0m \u001b[0mresnet18_imagenet_model\u001b[0m\u001b[0;34m.\u001b[0m\u001b[0mhas_logits\u001b[0m\u001b[0;34m)\u001b[0m\u001b[0;34m\u001b[0m\u001b[0;34m\u001b[0m\u001b[0m\n\u001b[0;32m----> 2\u001b[0;31m \u001b[0mprint\u001b[0m\u001b[0;34m(\u001b[0m\u001b[0;34m\"Return logits:\"\u001b[0m\u001b[0;34m,\u001b[0m \u001b[0mresnet18_imagenet_model\u001b[0m\u001b[0;34m.\u001b[0m\u001b[0mreturn_logits\u001b[0m\u001b[0;34m)\u001b[0m\u001b[0;34m\u001b[0m\u001b[0;34m\u001b[0m\u001b[0m\n\u001b[0m",
            "\u001b[0;31mAttributeError\u001b[0m: 'TorchvisionImageModel' object has no attribute 'return_logits'"
          ]
        }
      ]
    },
    {
      "metadata": {
        "id": "513b4af3b87017cb"
      },
      "cell_type": "markdown",
      "source": [
        "### Predictions of our Photos\n",
        "\n",
        "We loaded our Flickr dataset and we have loaded our classification model, time to have it predict the classifications for our images."
      ],
      "id": "513b4af3b87017cb"
    },
    {
      "metadata": {
        "id": "a5b1a3f3e26848bd",
        "outputId": "48a83200-61f7-4cfa-e7e2-c78f96aadddd",
        "colab": {
          "base_uri": "https://localhost:8080/"
        }
      },
      "cell_type": "code",
      "outputs": [
        {
          "output_type": "stream",
          "name": "stderr",
          "text": [
            "/usr/local/lib/python3.11/dist-packages/torch/utils/data/dataloader.py:624: UserWarning: This DataLoader will create 12 worker processes in total. Our suggested max number of worker in current system is 2, which is smaller than what this DataLoader is going to create. Please be aware that excessive worker creation might get DataLoader running slow or even freeze, lower the worker number to avoid potential slowness/freeze if necessary.\n",
            "  warnings.warn(\n"
          ]
        },
        {
          "output_type": "stream",
          "name": "stdout",
          "text": [
            " 100% |█████████████████| 300/300 [5.3s elapsed, 0s remaining, 65.6 samples/s]      \n"
          ]
        },
        {
          "output_type": "stream",
          "name": "stderr",
          "text": [
            "INFO:eta.core.utils: 100% |█████████████████| 300/300 [5.3s elapsed, 0s remaining, 65.6 samples/s]      \n"
          ]
        }
      ],
      "execution_count": 20,
      "source": [
        "dataset.apply_model(resnet18_imagenet_model, label_field=\"rn18_in_predictions\", num_workers=12, progress_bar=True, store_logits=True)\n",
        "\n",
        "# Now let's look at the results\n",
        "session.dataset = dataset"
      ],
      "id": "a5b1a3f3e26848bd"
    },
    {
      "cell_type": "code",
      "source": [
        "session = fo.launch_app(dataset,auto=False)\n",
        "session.url"
      ],
      "metadata": {
        "id": "_uXT7H-BHl8y",
        "outputId": "b7ea95b5-f194-4c01-fa07-8056fe35a179",
        "colab": {
          "base_uri": "https://localhost:8080/",
          "height": 71
        }
      },
      "id": "_uXT7H-BHl8y",
      "execution_count": 21,
      "outputs": [
        {
          "output_type": "stream",
          "name": "stdout",
          "text": [
            "Session launched. Run `session.show()` to open the App in a cell output.\n"
          ]
        },
        {
          "output_type": "stream",
          "name": "stderr",
          "text": [
            "INFO:fiftyone.core.session.session:Session launched. Run `session.show()` to open the App in a cell output.\n"
          ]
        },
        {
          "output_type": "execute_result",
          "data": {
            "text/plain": [
              "'https://5151-gpu-t4-s-laa75geddc9l-b.us-west4-1.prod.colab.dev?polling=true'"
            ],
            "application/vnd.google.colaboratory.intrinsic+json": {
              "type": "string"
            }
          },
          "metadata": {},
          "execution_count": 21
        }
      ]
    },
    {
      "metadata": {
        "id": "357f29b0d104d977"
      },
      "cell_type": "markdown",
      "source": [
        "#### Deep dive on the horse\n",
        "\n",
        "I want us to dig is on one particular sample\n"
      ],
      "id": "357f29b0d104d977"
    },
    {
      "metadata": {
        "id": "74c3795d61d77fc3"
      },
      "cell_type": "code",
      "outputs": [],
      "execution_count": 22,
      "source": [
        "horse_valley = dataset[\"6773012fa08cade6ec7e44f2\"]\n",
        "\n",
        "session.sample_id = horse_valley[\"id\"]"
      ],
      "id": "74c3795d61d77fc3"
    },
    {
      "cell_type": "code",
      "source": [
        "print(horse_valley)\n"
      ],
      "metadata": {
        "id": "pAuAVCB0Gs6e",
        "outputId": "9c0e43f3-f7db-456c-e883-8954104b1652",
        "colab": {
          "base_uri": "https://localhost:8080/"
        }
      },
      "id": "pAuAVCB0Gs6e",
      "execution_count": 23,
      "outputs": [
        {
          "output_type": "stream",
          "name": "stdout",
          "text": [
            "<Sample: {\n",
            "    'id': '6773012fa08cade6ec7e44f2',\n",
            "    'media_type': 'image',\n",
            "    'filepath': '/content/drive/MyDrive/impatient-cv/flickr-labeled/data/52383615406_11a126d6a1_z.jpg',\n",
            "    'tags': [],\n",
            "    'metadata': <ImageMetadata: {\n",
            "        'size_bytes': 79364,\n",
            "        'mime_type': 'image/jpeg',\n",
            "        'width': 640,\n",
            "        'height': 427,\n",
            "        'num_channels': 3,\n",
            "    }>,\n",
            "    'created_at': datetime.datetime(2025, 5, 13, 18, 57, 53, 192000),\n",
            "    'last_modified_at': datetime.datetime(2025, 5, 13, 19, 33, 55, 978000),\n",
            "    'open_clip_embed': array([ 5.77109009e-02,  3.25371355e-01,  3.74628663e-01,  1.14519350e-01,\n",
            "           -2.18840286e-01, -3.10990393e-01,  7.51966178e-01,  1.15380794e-01,\n",
            "           -5.84102988e-01,  6.53548837e-01,  4.52027500e-01, -3.98815155e-01,\n",
            "            1.29895747e-01, -4.45800662e-01,  5.91575086e-01,  1.45337433e-01,\n",
            "            2.37344861e-01, -1.42008401e-02,  2.01493084e-01, -2.20673829e-01,\n",
            "           -2.92100370e-01,  2.61853456e-01, -2.52594590e-01, -1.17846060e+00,\n",
            "           -6.91790506e-02, -1.39275789e-01, -1.84584875e-03,  6.93032593e-02,\n",
            "           -1.17131755e-01, -8.42342302e-02, -6.97553679e-02, -3.75525415e-01,\n",
            "           -3.89476776e-01,  1.38190404e-01,  6.13450468e-01, -2.70031095e-01,\n",
            "            1.04390278e-01,  1.83469534e-01, -6.23127557e-02,  1.12344706e+00,\n",
            "           -3.31656396e-01, -1.01041049e-02, -2.99576968e-01, -1.13697320e-01,\n",
            "           -2.46347785e-01,  6.69372201e-01,  2.28659958e-01,  1.52208060e-01,\n",
            "            1.37358680e-01,  1.01523094e-01,  7.55023658e-01,  4.31344211e-01,\n",
            "            3.29521328e-01,  4.15693223e-01, -1.24094144e-01, -1.42222509e-01,\n",
            "            3.11917663e-01,  1.35105297e-01,  8.11008736e-04, -9.99776125e-02,\n",
            "            1.02699257e-01,  1.02219447e-01, -1.45553008e-01,  2.84826666e-01,\n",
            "           -1.96296915e-01, -3.06324780e-01, -1.71355352e-01,  3.60711187e-01,\n",
            "            2.46695906e-01, -1.72674388e-01,  3.21358591e-02, -2.37434674e-02,\n",
            "           -5.15537500e-01,  9.16471779e-02,  7.44327344e-03, -4.42523628e-01,\n",
            "           -1.07396632e-01,  2.77582198e-01, -3.08285803e-01,  5.00032343e-02,\n",
            "            4.10085730e-02,  3.34975064e-01,  4.84580040e-01, -6.22998238e-01,\n",
            "            5.16953766e-01,  4.88505095e-01, -4.58771765e-01,  1.30902544e-01,\n",
            "            3.28209996e-01,  3.90238650e-02,  1.53138816e-01,  1.99580863e-02,\n",
            "           -6.53769779e+00,  7.17530847e-01, -3.96212041e-01,  3.38988155e-01,\n",
            "            3.04706156e-01, -3.78836058e-02, -9.20045018e-01, -1.07133016e-01,\n",
            "           -1.36771156e-02, -3.50856110e-02, -1.96359321e-01, -5.26275337e-02,\n",
            "           -3.33674788e-01,  8.25882405e-02, -7.12018073e-01,  3.93532544e-01,\n",
            "           -5.94964802e-01,  4.05758657e-02,  1.94284022e-01, -5.10452032e-01,\n",
            "           -4.13459450e-01,  9.53339562e-02, -2.24111632e-01, -7.69027919e-02,\n",
            "            1.08047336e-01, -2.97985017e-01,  9.01770741e-02,  4.90615666e-02,\n",
            "            1.27434984e-01,  1.08792908e-01,  4.68630753e-02,  7.24450685e-03,\n",
            "            2.50255674e-01, -3.50498781e-02, -5.12257218e-01,  6.62330613e-02,\n",
            "            1.76296443e-01, -2.82645077e-01,  2.19678700e-01, -4.46809560e-01,\n",
            "            3.91398817e-02,  9.34102952e-01, -2.16783151e-01, -1.95590019e-01,\n",
            "            7.70672504e-03, -3.21543157e-01, -3.14443260e-02, -5.54067791e-01,\n",
            "           -1.18205972e-01,  2.11983383e-01,  2.81549156e-01,  6.58822834e-01,\n",
            "           -2.92650640e-01, -1.23128928e-01, -3.93673450e-01,  7.75550604e-01,\n",
            "            1.18669467e-02, -2.55954742e-01, -9.50394198e-02, -1.71133086e-01,\n",
            "            5.11019528e-01, -2.11215228e-01, -5.86613238e-01, -2.99635410e-01,\n",
            "            5.08932114e-01, -9.49389189e-02, -2.02249214e-01, -4.90953811e-02,\n",
            "            8.47550947e-03,  9.95303169e-02, -3.73835921e-01,  3.70290518e-01,\n",
            "            6.21638775e-01, -2.92764723e-01,  4.91719805e-02,  3.30391973e-01,\n",
            "            1.63230926e-01, -1.20159976e-01,  3.46769020e-02,  2.63723105e-01,\n",
            "            4.82854620e-02, -4.20631379e-01, -3.54605407e-01,  2.63159927e-02,\n",
            "           -5.68333268e-01,  3.96831274e-01,  2.91570246e-01,  1.73284382e-01,\n",
            "           -2.98102945e-01, -7.10353479e-02, -4.44010049e-01, -2.48174250e-01,\n",
            "           -1.77868009e-02, -1.75194237e-02, -6.83768913e-02,  2.40111113e-01,\n",
            "           -7.63891876e-01, -1.63434014e-01,  2.46049553e-01, -1.01173542e-01,\n",
            "           -3.47987473e-01, -4.67078686e-01, -7.29489446e-01,  6.36017740e-01,\n",
            "            1.84382752e-01, -1.44746929e-01, -3.51825804e-02, -1.55818120e-01,\n",
            "           -5.11631489e-01, -1.51281655e-01,  6.08250462e-02,  2.06915453e-01,\n",
            "            2.73503393e-01, -1.39761314e-01, -5.17834485e-01, -1.87876970e-01,\n",
            "            5.22051036e-01, -2.59605676e-01, -4.70033765e-01, -2.02961594e-01,\n",
            "           -1.28323704e-01,  6.89293206e-01,  3.76892015e-02,  1.25533948e-03,\n",
            "            5.05274832e-01,  5.08969463e-02,  7.95762837e-01, -3.06067258e-01,\n",
            "            4.59954172e-01,  9.43689644e-01, -8.25215727e-02, -4.66083258e-01,\n",
            "           -4.75120276e-01, -8.65938962e-02, -6.33715838e-02, -2.06028655e-01,\n",
            "           -5.70946522e-02,  1.40237436e-01,  3.58581275e-01,  2.93241497e-02,\n",
            "           -7.04633668e-02,  2.50555366e-01,  2.82354951e-01, -5.08300066e-02,\n",
            "            2.10741177e-01, -3.10872823e-01, -2.46947780e-01,  3.02855402e-01,\n",
            "            3.87663245e-01,  2.23368183e-01,  1.67586297e-01, -1.42171755e-01,\n",
            "           -1.92309275e-01, -9.10379551e-03, -4.94098738e-02, -2.18663871e-01,\n",
            "            1.22747324e-01,  6.26892149e-01,  4.12797064e-01,  2.59258240e-01,\n",
            "            1.77956164e-01, -1.74154758e-01,  1.75572503e-02, -1.77154280e-02,\n",
            "           -4.90320653e-01,  4.62919861e-01,  1.23677707e+00,  2.88480222e-01,\n",
            "           -2.34491795e-01,  3.56157869e-01, -1.12114474e-04,  1.23125744e+00,\n",
            "           -1.36887291e-02,  1.05715349e-01, -7.42930099e-02, -7.70041570e-02,\n",
            "            3.96681190e-01,  2.94864535e-01,  2.24804878e-03, -2.23445818e-01,\n",
            "            2.76430368e-01, -6.53034076e-04, -2.87976325e-01,  1.11400940e-01,\n",
            "           -3.14617008e-01, -1.14515811e-01, -3.39169085e-01, -7.23393857e-02,\n",
            "           -4.72525030e-01,  3.16269338e-01, -5.00349283e-01, -2.15572610e-01,\n",
            "           -2.17216074e-01,  2.18592454e-02, -2.29399681e-01, -2.98465371e-01,\n",
            "           -8.35114866e-02, -6.59588277e-02, -3.54397446e-01,  5.36882043e-01,\n",
            "            1.73175074e-02,  3.12042087e-02, -2.55404830e-01,  4.24607605e-01,\n",
            "            5.50593495e-01, -2.04952300e-01,  1.73491210e-01, -4.15991485e-01,\n",
            "            3.75540406e-01, -4.79753762e-01, -5.20542301e-02,  5.85290380e-02,\n",
            "            4.59688753e-02, -6.30867660e-01, -7.07987100e-02,  3.95863324e-01,\n",
            "            6.64967358e-01, -1.46077752e-01, -1.61636341e-02,  2.53141392e-02,\n",
            "            9.33706701e-01, -3.09693038e-01, -1.48376152e-02, -2.11257368e-01,\n",
            "           -4.95831370e-02,  4.31193858e-01, -3.31383109e-01, -7.96707690e-01,\n",
            "            6.73092186e-01,  9.14729714e-01,  9.58526805e-02,  5.43801934e-02,\n",
            "            2.16613173e-01,  3.45959574e-01,  6.82243854e-02, -1.52519017e-01,\n",
            "           -9.05770287e-02, -1.13279060e-01, -4.14030731e-01, -3.28333944e-01,\n",
            "            3.37309062e-01, -5.69419451e-02, -1.32599309e-01, -1.06249511e-01,\n",
            "           -1.46751776e-02,  2.97291756e-01,  3.00730914e-01, -5.74658990e-01,\n",
            "           -5.23065507e-01, -5.82452774e-01,  2.92244762e-01,  1.47056192e-01,\n",
            "           -1.08618751e-01, -1.02010809e-01, -1.59435719e-01,  3.00310224e-01,\n",
            "            1.81320563e-01, -3.47587377e-01, -4.52715158e-01,  2.73994774e-01,\n",
            "            1.05430849e-01, -5.54794788e-01, -1.59937501e-01,  2.36295059e-01,\n",
            "            2.79523611e-01, -1.25398493e+00, -1.68808296e-01,  1.95845366e-02,\n",
            "            8.85188520e-01, -2.67797738e-01,  2.17483595e-01, -2.43867502e-01,\n",
            "            9.75204781e-02, -5.67230821e-01, -4.62694526e-01, -4.87260222e-01,\n",
            "           -3.94237638e-01,  1.08237611e-02,  4.01306272e-01, -2.20332876e-01,\n",
            "           -4.60133925e-02,  8.88926685e-02,  8.63048136e-02,  3.04497689e-01,\n",
            "            1.32785714e+00,  3.54816496e-01,  2.62504399e-01,  1.13055125e-01,\n",
            "            6.60535812e-01, -4.89884645e-01,  8.70962739e-02, -7.83900082e-01,\n",
            "            4.29443181e-01,  5.84924817e-02, -4.72112685e-01,  3.24889034e-01,\n",
            "           -5.78039110e-01,  3.10421705e-01, -4.60031390e-01, -2.13488042e-01,\n",
            "            2.44938638e-02, -3.36719304e-02,  1.13183998e-01, -4.57990080e-01,\n",
            "           -3.70932490e-01, -3.38792145e-01, -6.83118403e-01, -6.03170931e-01,\n",
            "           -1.83566615e-01, -3.35417032e-01,  6.72675312e-01,  1.02349065e-01,\n",
            "            1.11322917e-01, -1.12335980e-01, -9.60171968e-02, -4.77639765e-01,\n",
            "            1.32130355e-01, -5.94709933e-01,  2.43872076e-01,  1.73934013e-01,\n",
            "           -1.31871656e-01, -1.50639579e-01, -3.68989408e-01, -4.97271270e-02,\n",
            "            4.77187987e-03, -3.57951999e-01, -2.04179227e-01, -9.67289627e-01,\n",
            "           -3.08612138e-01, -2.22408414e-01, -1.94723547e-01,  1.40006468e-01,\n",
            "            1.95479870e-01,  4.14806813e-01, -5.29142916e-01,  1.85808092e-01,\n",
            "            1.30179599e-02,  1.16744578e-01,  6.98104352e-02,  5.58656096e-01,\n",
            "           -2.37172350e-01, -2.02746186e-02,  2.39735126e-01, -3.03804219e-01,\n",
            "            2.51914442e-01, -1.76979616e-01, -1.32109135e-01,  3.21022034e-01,\n",
            "            3.95614892e-01,  5.81365943e-01,  1.48229912e-01, -4.34545368e-01,\n",
            "            2.22340245e-02,  1.76708534e-01,  1.02038488e-01,  6.31087348e-02,\n",
            "            4.00509506e-01,  4.13241759e-02, -2.73313671e-01,  4.98829901e-01,\n",
            "           -5.65760881e-02, -6.86690927e-01,  4.23990846e-01, -8.50147102e-03,\n",
            "            7.48588026e-01, -2.39577860e-01, -3.18904430e-01, -3.94161493e-02,\n",
            "            2.93078691e-01, -1.31045043e-01, -1.52382791e-01,  2.18550146e-01,\n",
            "            6.39687598e-01,  1.18419081e-01, -5.85091412e-01,  9.40120593e-02,\n",
            "           -3.07392269e-01,  3.75151396e-01,  2.48168632e-01, -9.47221369e-02,\n",
            "            1.34178594e-01, -3.04012299e-01,  3.99154752e-01, -2.96880513e-01,\n",
            "            2.02126391e-02,  6.60898164e-02,  2.17600577e-02, -5.83485842e-01,\n",
            "           -5.63037157e-01, -7.93799162e-01, -1.29190087e-03,  2.09673688e-01,\n",
            "           -5.25079906e-01,  2.13349894e-01, -6.77226126e-01,  2.82480478e-01,\n",
            "           -4.39306557e-01,  5.39403129e-03, -1.75086349e-01, -2.30972752e-01,\n",
            "           -1.31882012e-01, -2.84216464e-01,  3.41446280e-01, -1.69550613e-01,\n",
            "           -7.57311508e-02,  6.82021558e-01, -4.64270324e-01, -1.54013798e-01,\n",
            "           -6.57785058e-01, -3.34244579e-01, -1.88860923e-01, -1.32722020e-01,\n",
            "            1.40351012e-01,  2.66184837e-01, -1.70900926e-01,  2.87929386e-01,\n",
            "            3.60447705e-01,  1.20072737e-02,  1.75455049e-01,  2.46555377e-02]),\n",
            "    'ground_truth': <Classification: {\n",
            "        'id': '6776fadc69ced2b8ea1f25cb',\n",
            "        'tags': [],\n",
            "        'label': 'no people',\n",
            "        'confidence': None,\n",
            "        'logits': None,\n",
            "    }>,\n",
            "    'rn18_in_predictions': <Classification: {\n",
            "        'id': '68239ea31cae9e65da6e52f3',\n",
            "        'tags': [],\n",
            "        'label': 'bighorn',\n",
            "        'confidence': 0.04295032471418381,\n",
            "        'logits': array([ 6.50748312e-01, -1.42130804e+00, -5.85894883e-01, -8.78902376e-01,\n",
            "               -5.62960744e-01, -8.33259463e-01, -6.42005444e-01,  3.06524247e-01,\n",
            "                2.29801953e-01,  2.01341605e+00, -8.28860849e-02, -4.33949351e-01,\n",
            "                5.69508910e-01, -1.94348663e-01, -9.01692510e-01,  7.54713178e-01,\n",
            "                1.51346937e-01,  3.10954988e-01,  8.50194156e-01,  5.32516837e-01,\n",
            "                1.41554844e+00,  1.57132125e+00,  2.03150702e+00,  2.45017433e+00,\n",
            "                1.17560160e+00, -4.28404152e-01,  3.25936854e-01,  1.32357225e-01,\n",
            "               -3.62688571e-01, -4.49738950e-01,  2.51108140e-01, -1.01068807e+00,\n",
            "                1.99020561e-03, -4.98063803e-01, -4.75478843e-02,  4.04587537e-01,\n",
            "                6.50326490e-01, -1.13005924e+00, -4.53232259e-01,  1.47156370e+00,\n",
            "                2.10320085e-01,  1.10677123e-01,  5.17821908e-01, -8.36792946e-01,\n",
            "                4.09736395e-01,  3.40075821e-01, -1.49492741e-01, -1.15606137e-01,\n",
            "                9.95495260e-01,  4.68475759e-01,  7.69843280e-01,  6.40730917e-01,\n",
            "                2.00643361e-01,  1.99064732e-01, -5.20260155e-01, -6.38360143e-01,\n",
            "               -4.03736770e-01, -5.44236779e-01,  8.52726758e-01,  2.23754555e-01,\n",
            "               -2.02837259e-01, -8.03898215e-01, -1.72700718e-01, -4.30213124e-01,\n",
            "               -4.39237386e-01,  2.75669873e-01, -2.54025906e-01,  3.69168341e-01,\n",
            "               -2.36934111e-01, -1.18635404e+00, -7.63669550e-01, -9.68027830e-01,\n",
            "               -1.30299723e+00, -9.38350186e-02, -6.49951160e-01, -9.21993196e-01,\n",
            "                5.29725015e-01,  4.26996171e-01,  1.55331358e-01, -3.22816074e-01,\n",
            "                2.14671469e+00,  2.46999693e+00,  1.37133110e+00,  1.55356514e+00,\n",
            "                4.69299704e-01,  1.41185057e+00,  1.81545508e+00, -4.68054235e-01,\n",
            "               -9.39016938e-01,  5.75419962e-01, -5.83618701e-01, -2.19866827e-01,\n",
            "               -8.59275535e-02,  9.63307023e-02, -8.64601016e-01, -1.67973030e+00,\n",
            "               -4.94284213e-01,  6.38930500e-01,  2.11020991e-01,  2.09040976e+00,\n",
            "                1.30660701e+00,  2.81844926e+00,  4.31659877e-01, -4.84842807e-01,\n",
            "                1.69611359e+00, -1.51777494e+00,  3.05763692e-01, -1.50220060e+00,\n",
            "               -1.22190320e+00, -7.93020010e-01, -1.46759379e+00, -9.56500173e-01,\n",
            "                3.48148853e-01, -4.56878573e-01, -4.72982436e-01, -1.84840500e+00,\n",
            "               -7.85118341e-01, -1.06288815e+00, -1.38611645e-01,  6.00082397e-01,\n",
            "                7.06828833e-01, -3.78202081e-01, -1.87835419e+00, -8.05352747e-01,\n",
            "                1.35066152e-01, -5.78869134e-02, -6.45594835e-01,  1.13871443e+00,\n",
            "                1.29896426e+00,  9.10653353e-01, -2.11453095e-01,  1.35829425e+00,\n",
            "                1.97072208e+00,  1.10625815e+00,  2.02906775e+00,  1.28938127e+00,\n",
            "               -4.45614383e-03,  1.07513177e+00,  7.76853621e-01,  8.86742711e-01,\n",
            "                2.83436656e-01,  8.16237092e-01,  6.90721631e-01,  1.95960808e+00,\n",
            "                9.88422096e-01,  2.78915501e+00,  2.14277530e+00,  4.13449466e-01,\n",
            "                1.58487749e+00, -1.90148026e-01,  2.00985646e+00,  5.37742615e-01,\n",
            "               -4.59547281e-01, -1.22488812e-01, -1.09019256e+00, -1.80577829e-01,\n",
            "                8.67025673e-01, -1.28867418e-01, -3.83269489e-01,  2.11784053e+00,\n",
            "                2.44852185e+00,  8.44461203e-01,  3.67824763e-01,  1.26994538e+00,\n",
            "                7.47501850e-01, -1.29213482e-01,  2.92380095e-01,  1.00062037e+00,\n",
            "                7.91116595e-01,  1.65772736e+00,  3.58078933e+00,  1.13612115e+00,\n",
            "                2.50032353e+00,  2.26561189e+00,  1.89647663e+00,  5.79795539e-01,\n",
            "                2.83474970e+00,  3.06213212e+00,  3.51229548e+00,  9.17072058e-01,\n",
            "                8.72348666e-01,  1.89499664e+00,  1.57174015e+00,  7.76473641e-01,\n",
            "                1.83911729e+00,  1.77019012e+00,  1.48999405e+00,  5.94943583e-01,\n",
            "                4.73054558e-01,  1.59345531e+00,  2.28945851e-01,  1.74697542e+00,\n",
            "                1.62263811e+00,  7.77686894e-01,  7.12300777e-01,  8.21369290e-01,\n",
            "                8.58131766e-01,  2.70518684e+00,  1.90689421e+00,  1.25326562e+00,\n",
            "                1.18060648e+00,  1.54882163e-01,  1.68394685e+00,  1.57765675e+00,\n",
            "                4.40220535e-01,  2.59147739e+00,  1.56062663e+00,  1.93631840e+00,\n",
            "                2.16161442e+00,  2.63827467e+00,  1.58332849e+00,  2.25844312e+00,\n",
            "                1.73875153e+00,  1.99843466e+00,  2.09939170e+00,  1.18057287e+00,\n",
            "                1.95648682e+00,  2.39092255e+00,  2.05119443e+00,  1.43307412e+00,\n",
            "                1.87750340e+00,  1.51746643e+00,  1.64242399e+00,  1.67601764e+00,\n",
            "                2.35550427e+00,  1.93116593e+00,  1.92908204e+00,  1.43395376e+00,\n",
            "                1.44412613e+00,  1.07599676e+00,  6.80612981e-01,  1.30372143e+00,\n",
            "                2.23338890e+00,  1.44604683e+00,  9.26321328e-01,  1.91192377e+00,\n",
            "                1.26200652e+00, -3.52048278e-01,  1.86305368e+00,  1.27645707e+00,\n",
            "                1.81395149e+00,  2.23279452e+00,  5.31016409e-01,  1.17218995e+00,\n",
            "                1.12060666e+00,  1.04045630e-01,  1.69009829e+00,  7.92442977e-01,\n",
            "                2.36179376e+00,  2.63663149e+00,  1.85305476e+00,  1.87834620e+00,\n",
            "               -4.74904597e-01, -6.63130432e-02,  9.00007546e-01,  2.93008161e+00,\n",
            "                2.62293744e+00,  1.72083318e+00,  1.35423696e+00,  1.71312150e-02,\n",
            "               -6.86045706e-01,  5.21268785e-01,  7.77261928e-02,  7.55719960e-01,\n",
            "                9.10548031e-01,  4.18009937e-01,  9.96742368e-01,  2.30686164e+00,\n",
            "                8.88167381e-01,  3.07891679e+00,  2.98382068e+00,  9.18875992e-01,\n",
            "                2.77503014e+00,  1.60093331e+00,  1.04412448e+00,  1.86799610e+00,\n",
            "                1.81899929e+00,  1.61484241e+00,  1.30569649e+00,  2.85261202e+00,\n",
            "                1.37298322e+00, -5.46876341e-03,  1.23292014e-01, -1.02638531e+00,\n",
            "               -1.50300972e-02, -5.47378540e-01,  1.72895288e+00,  1.47363329e+00,\n",
            "                1.03668165e+00,  1.33886039e+00,  1.66212186e-01,  1.86054015e+00,\n",
            "                1.07089281e+00,  1.49286473e+00,  2.97634721e+00,  1.53576863e+00,\n",
            "                2.51569152e+00,  2.96866521e-02,  1.27790272e+00,  1.44075978e+00,\n",
            "               -7.19341397e-01, -6.84407279e-02, -7.46306300e-01, -1.32324541e+00,\n",
            "               -1.58714473e+00, -1.89574987e-01, -1.95374951e-01, -7.54021168e-01,\n",
            "               -1.48917770e+00, -1.07351315e+00,  4.34968174e-01, -4.38125968e-01,\n",
            "               -1.11787713e+00, -2.90278971e-01, -1.49891770e+00, -3.98842394e-01,\n",
            "               -1.62636769e+00, -1.51658165e+00, -7.12146938e-01, -8.68184268e-01,\n",
            "               -9.05860126e-01, -8.29667687e-01, -3.90642703e-01, -8.58563006e-01,\n",
            "               -1.99156299e-01, -1.41590214e+00, -4.14769053e-01,  2.60627121e-01,\n",
            "               -5.85875452e-01, -5.82168758e-01,  1.36085963e+00,  2.19465089e+00,\n",
            "               -7.59009302e-01, -1.46770692e+00, -2.95668632e-01,  1.84321344e-01,\n",
            "                2.74549389e+00,  4.87840891e-01, -1.47490025e+00,  5.49706578e-01,\n",
            "                2.81828785e+00,  1.91741586e+00,  2.09718037e+00,  2.24263382e+00,\n",
            "                1.76938510e+00,  2.76621747e+00,  3.53558230e+00,  3.47911882e+00,\n",
            "                3.45444441e+00,  4.88449287e+00,  4.37764788e+00,  2.07606554e+00,\n",
            "                1.89937568e+00,  1.62284863e+00,  2.36098075e+00,  2.89577198e+00,\n",
            "                1.84665406e+00,  1.47107065e+00,  4.24010068e-01,  1.94855630e-01,\n",
            "                1.10195506e+00,  7.15989649e-01,  1.00602508e+00,  5.91830611e-01,\n",
            "                4.79534179e-01,  4.54628676e-01,  1.49560273e+00,  1.08694899e+00,\n",
            "                8.24066281e-01,  7.25468755e-01,  5.59839979e-02,  1.04721999e+00,\n",
            "                2.74725366e+00,  2.24458337e+00,  1.97583771e+00,  7.82831371e-01,\n",
            "                2.43832454e-01, -1.10021305e+00,  4.04671192e-01,  5.36697865e-01,\n",
            "               -5.78551054e-01,  7.66358972e-01, -8.00201744e-02,  7.92688847e-01,\n",
            "               -6.98632300e-02,  2.63190699e+00,  3.16820478e+00, -6.19916975e-01,\n",
            "               -2.74884939e-01,  1.04625627e-01,  6.84853971e-01,  1.76409328e+00,\n",
            "               -1.11022353e+00, -1.46355355e+00,  1.09419739e+00,  3.46081406e-01,\n",
            "               -1.17652583e+00, -1.53392518e+00, -1.98571324e+00,  9.64535594e-01,\n",
            "               -9.72236991e-01, -2.00663865e-01, -1.98244357e+00, -5.18933892e-01,\n",
            "                4.16392148e-01,  9.65030372e-01, -1.79773140e+00, -2.36534923e-01,\n",
            "                3.42004061e-01, -7.56506026e-01,  7.78815746e-01, -1.57875812e+00,\n",
            "                4.57420439e-01,  4.70893949e-01, -5.63729405e-02, -1.83860326e+00,\n",
            "               -1.62410885e-01,  1.82458961e+00, -2.04645205e+00, -8.35868895e-01,\n",
            "               -1.53958845e+00,  5.15783489e-01, -2.26971674e+00, -2.35263777e+00,\n",
            "               -2.20942354e+00,  2.01544213e+00, -2.35934353e+00, -1.73637658e-01,\n",
            "                1.31012559e+00, -2.20082793e-02, -6.84467912e-01, -1.59125030e+00,\n",
            "               -1.23718095e+00,  9.84681427e-01, -1.29961753e+00,  5.24262130e-01,\n",
            "                3.55681658e-01,  1.49214947e+00, -2.53585482e+00, -5.71619987e-01,\n",
            "               -6.61311150e-01, -9.33442354e-01,  8.58474493e-01, -2.37961316e+00,\n",
            "                9.35108244e-01,  1.76649857e+00, -1.83763301e+00,  1.47706699e+00,\n",
            "                5.95882535e-01,  1.63751614e+00,  2.14835718e-01, -1.56239319e+00,\n",
            "               -5.05673587e-01, -2.09747100e+00, -1.76940835e+00, -7.78340101e-01,\n",
            "               -2.80523747e-01, -5.91145575e-01,  8.48098099e-01, -1.14021562e-01,\n",
            "                1.62191665e+00, -1.36223853e+00, -9.37896550e-01,  1.00472713e+00,\n",
            "               -5.71941733e-01, -5.20805597e-01,  1.10098884e-01, -1.92768931e+00,\n",
            "                3.54418010e-02, -4.26192135e-02, -1.54280281e+00,  8.45425427e-01,\n",
            "                2.66571903e+00, -2.57180309e+00,  2.02739928e-02,  1.40720844e+00,\n",
            "               -1.36631441e+00, -2.21857858e+00, -1.26819587e+00,  8.31997812e-01,\n",
            "               -1.71889818e+00, -1.61151791e+00, -1.22107637e+00,  2.49776363e+00,\n",
            "                1.17086780e+00, -2.31326604e+00, -1.03148329e+00, -4.35053319e-01,\n",
            "                7.97984719e-01,  1.33124268e+00, -6.15679860e-01,  6.51971400e-01,\n",
            "               -1.55204892e+00, -2.30458426e+00,  2.04490423e-01, -3.35872936e+00,\n",
            "               -2.14354682e+00,  1.16893351e+00, -9.75127637e-01, -1.28236127e+00,\n",
            "                1.50643373e+00,  1.26802421e+00, -1.63743004e-01, -2.06233978e+00,\n",
            "               -9.31726933e-01, -8.91579449e-01,  7.46024668e-01, -1.35588491e+00,\n",
            "               -1.98845649e+00, -2.03842449e+00,  2.63766795e-02,  3.60505641e-01,\n",
            "               -1.32949245e+00, -7.54945800e-02,  5.81882775e-01,  8.36456120e-01,\n",
            "               -1.99072850e+00,  5.60526967e-01,  5.84710240e-01, -4.05283310e-02,\n",
            "               -2.38464093e+00, -1.81201828e+00,  6.96808338e-01,  5.67504227e-01,\n",
            "               -9.12036359e-01,  2.94787645e+00, -2.51829791e+00, -1.84751737e+00,\n",
            "               -2.13658619e+00, -9.66943800e-01, -1.49845994e+00, -1.58713281e+00,\n",
            "               -2.21748519e+00, -1.68350780e+00, -1.66871095e+00, -1.52820253e+00,\n",
            "                6.34974420e-01,  2.52913499e+00,  1.07722235e+00, -8.73757362e-01,\n",
            "               -6.04735792e-01, -1.55580866e+00, -1.86359823e+00, -2.10267377e+00,\n",
            "               -4.08283085e-01, -8.75647366e-01, -1.99310470e+00,  4.00150269e-01,\n",
            "               -1.09200382e+00, -1.16767752e+00, -2.80096745e+00, -1.63829041e+00,\n",
            "               -1.00566781e+00, -1.83222079e+00,  5.63225925e-01, -1.01755261e-01,\n",
            "               -1.55511808e+00,  1.13215053e+00, -1.24801874e-01,  1.83286354e-01,\n",
            "                9.64028686e-02, -1.49193537e+00,  1.23344290e+00, -2.09065652e+00,\n",
            "               -3.44254422e+00,  1.27976149e-01, -6.23269320e-01, -1.48802054e+00,\n",
            "                4.34423834e-01,  4.11624104e-01,  4.63026538e-02, -1.35775089e+00,\n",
            "               -1.29570222e+00,  2.97048297e-02,  1.03526092e+00, -3.94619294e-02,\n",
            "               -8.43687475e-01, -7.65454292e-01,  5.76425940e-02, -1.28774750e+00,\n",
            "                5.93949437e-01, -5.85376978e-01, -6.31565690e-01, -1.08033288e+00,\n",
            "               -2.10221267e+00, -1.41727006e+00,  7.98917174e-01, -7.59643793e-01,\n",
            "               -1.75534928e+00, -1.39436448e+00, -1.50724292e+00, -1.40485036e+00,\n",
            "               -1.62321663e+00, -7.31624067e-01, -1.11201394e+00,  3.41756225e-01,\n",
            "               -1.79645047e-01, -1.92504120e+00, -1.67474210e+00, -7.36818433e-01,\n",
            "                5.55254936e-01, -7.04709828e-01,  2.29353949e-01,  1.62484658e+00,\n",
            "               -1.89759243e+00, -1.34275472e+00, -1.28036928e+00, -9.51577663e-01,\n",
            "               -9.01935935e-01,  2.23315001e+00, -2.27604419e-01, -9.42044377e-01,\n",
            "               -2.92785764e-01, -1.69976425e+00, -8.54680359e-01, -4.80063036e-02,\n",
            "                1.03836107e+00, -8.93131077e-01, -7.46949673e-01, -2.17265582e+00,\n",
            "               -9.67810214e-01,  1.84781909e-01, -5.12770355e-01, -2.14497900e+00,\n",
            "               -1.13067746e+00,  7.04350710e-01, -1.53290236e+00, -1.41588254e-02,\n",
            "                2.02532500e-01, -1.44116545e+00, -1.01709533e+00, -1.18092990e+00,\n",
            "               -5.05072415e-01, -7.78478146e-01, -3.00435610e-02, -1.29405522e+00,\n",
            "               -1.61058456e-01,  2.88844079e-01,  4.23605800e-01,  4.13822860e-01,\n",
            "               -1.21908891e+00, -1.44043100e+00, -2.00700665e+00, -4.36720848e-01,\n",
            "               -1.09650564e+00,  2.21490055e-01,  2.96701002e+00, -1.91951835e+00,\n",
            "               -2.21388221e+00,  2.68736553e+00, -1.11752117e+00, -1.11645830e+00,\n",
            "                4.84334290e-01,  2.50685930e-01,  1.19070780e+00,  3.33230585e-01,\n",
            "                1.43808579e+00,  2.97202796e-01, -1.01087856e+00, -9.41693604e-01,\n",
            "                9.51606870e-01, -5.36219239e-01, -2.38194966e+00,  1.41725588e+00,\n",
            "                2.52761960e-01, -3.21432948e-02, -6.93949223e-01, -1.03491974e+00,\n",
            "                7.27443993e-01, -1.64868152e+00, -1.29955962e-01,  3.29949784e+00,\n",
            "                3.82512164e+00, -1.94480062e+00, -1.30279207e+00,  7.55077600e-02,\n",
            "                7.18096793e-01, -3.27872410e-02, -7.57368505e-01, -1.31818104e+00,\n",
            "               -1.21490300e+00, -6.31273866e-01,  1.54577947e+00, -8.24481845e-01,\n",
            "               -1.14293003e+00, -1.79898894e+00, -2.06994963e+00, -2.55922484e+00,\n",
            "               -2.51003718e+00, -1.34152901e+00,  1.35709608e+00, -8.00173461e-01,\n",
            "               -1.81373918e+00,  1.90035450e+00, -2.54254878e-01,  6.54601976e-02,\n",
            "               -1.12693870e+00, -1.66230822e+00,  8.73219311e-01, -6.45283520e-01,\n",
            "               -7.60227501e-01,  1.61280417e+00, -5.11099696e-01,  1.84175742e+00,\n",
            "               -1.64263248e-02,  8.27878892e-01, -2.98402399e-01, -1.27765071e+00,\n",
            "                6.22671843e-01, -2.64183116e+00, -2.32677674e+00, -9.74416137e-01,\n",
            "               -1.98370469e+00, -2.64124560e+00, -2.25345707e+00, -5.38828790e-01,\n",
            "                1.67392290e+00,  4.52968001e-01,  1.05518484e+00, -1.33249080e+00,\n",
            "               -1.98592329e+00, -1.11086988e+00, -6.23243213e-01, -3.49849612e-01,\n",
            "                1.68019712e+00, -1.33460391e+00, -2.19699764e+00,  1.32647336e+00,\n",
            "                8.12466383e-01, -2.87780094e+00,  1.76509356e+00, -6.50742412e-01,\n",
            "               -1.27109230e+00,  1.70656550e+00, -5.83591878e-01,  6.51552975e-01,\n",
            "               -2.12830639e+00, -7.84434080e-01, -9.05856267e-02, -1.50891244e+00,\n",
            "               -1.51906908e+00, -1.12457156e+00, -2.27738571e+00, -5.87151982e-02,\n",
            "                4.97973651e-01, -2.59697294e+00, -1.25909233e+00, -1.96949041e+00,\n",
            "               -5.65477431e-01, -7.20550179e-01, -1.12177634e+00, -2.65550345e-01,\n",
            "               -1.04255521e+00, -1.93101442e+00, -1.31146514e+00,  2.93353868e+00,\n",
            "               -3.14737231e-01,  1.32215846e+00,  7.65685439e-01, -8.06746662e-01,\n",
            "               -5.91105998e-01, -1.29406404e+00, -1.51283312e+00, -4.64207619e-01,\n",
            "                7.22669899e-01, -9.36230481e-01, -2.19885087e+00, -1.53309321e+00,\n",
            "                1.45585597e+00, -8.96936655e-01,  2.75590420e-01, -1.32040524e+00,\n",
            "               -2.76431978e-01, -1.08821487e+00, -5.13721704e-01,  1.99295670e-01,\n",
            "               -4.12608758e-02, -1.38003957e+00, -2.43150425e+00,  4.81887698e-01,\n",
            "                1.08998156e+00, -3.28117520e-01, -8.27409700e-02, -8.48311543e-01,\n",
            "               -1.68277502e+00, -1.78061652e+00, -1.99629200e+00,  1.82456970e-01,\n",
            "               -2.27991724e+00, -1.84203267e+00, -1.72809899e+00,  8.02661419e-01,\n",
            "                5.59631944e-01, -5.85316539e-01, -1.67744875e+00,  1.55048907e+00,\n",
            "                1.43734825e+00,  4.65310067e-01, -2.90013504e+00, -1.04670107e+00,\n",
            "               -3.12999868e+00,  2.75166065e-01,  1.64568722e+00, -2.96849310e-01,\n",
            "               -2.01733351e+00,  1.31340325e+00, -6.65625155e-01,  2.53539473e-01,\n",
            "                6.78572655e-02, -1.57751584e+00, -1.66001344e+00, -2.41025472e+00,\n",
            "                3.27183574e-01, -1.74286985e+00,  3.04399610e-01,  5.84031463e-01,\n",
            "               -2.28704476e+00, -4.36387300e-01,  3.05061698e-01, -4.18058634e-01,\n",
            "                8.69366288e-01,  1.34653461e+00, -2.23270535e-01, -1.90596616e+00,\n",
            "                2.60518998e-01,  2.92193508e+00, -1.13913405e+00, -1.49511945e+00,\n",
            "               -9.45690215e-01,  2.98255444e-01,  8.10776651e-02, -1.79334605e+00,\n",
            "                1.75380754e+00,  8.78232718e-01,  6.35665596e-01,  6.48726940e-01,\n",
            "                7.98258901e-01,  7.68219471e-01,  3.26204896e-01,  2.89403296e+00,\n",
            "               -1.35127795e+00,  8.41056049e-01,  1.31744671e+00,  1.95611548e-02,\n",
            "               -1.79840803e+00, -6.17770851e-01, -2.14983988e+00,  3.76788914e-01,\n",
            "               -1.25347865e+00, -1.32693934e+00, -4.06950682e-01,  7.86960065e-01,\n",
            "                7.78484583e-01,  1.78060138e+00, -1.64601684e+00, -5.09619415e-01,\n",
            "               -4.32813257e-01, -2.29744506e+00,  6.10435069e-01, -1.24656188e+00,\n",
            "               -2.89607382e+00, -1.11331201e+00,  2.58165181e-01,  1.02937281e+00,\n",
            "                1.05775118e-01, -1.67771578e+00,  6.47070706e-01,  2.40065050e+00,\n",
            "               -9.34909344e-01,  5.13483047e-01,  4.04903144e-02,  5.56188881e-01,\n",
            "                1.76014245e+00,  1.14612520e+00, -8.33593726e-01, -5.06261587e-01,\n",
            "                1.01065838e+00, -1.22015643e+00, -1.90042973e+00,  8.00301313e-01,\n",
            "                2.16630936e+00, -1.24572825e+00, -1.60826242e+00, -1.95157540e+00,\n",
            "               -5.45848131e-01, -4.60560739e-01, -1.94302261e+00, -2.04385829e+00,\n",
            "                2.63631248e+00, -1.94816113e+00,  5.10691285e-01, -3.01353121e+00,\n",
            "               -2.35869455e+00, -1.63902378e+00, -2.60536981e+00,  1.01982164e+00,\n",
            "               -1.15074754e+00, -1.06196368e+00,  3.58857960e-02, -2.47807190e-01,\n",
            "                7.17776656e-01, -1.49739015e+00, -6.59586430e-01, -2.77846903e-01,\n",
            "               -9.64835048e-01, -2.38725996e+00, -2.05538106e+00, -9.91666794e-01,\n",
            "                5.78415036e-01, -1.73994493e+00, -7.98126757e-01,  5.61816394e-01,\n",
            "                2.96013308e+00,  1.54074168e+00,  1.37771678e+00,  2.86513424e+00,\n",
            "                1.35310784e-01, -1.49565291e+00, -1.67949057e+00,  5.85011125e-01,\n",
            "                3.20806652e-01, -3.21961969e-01, -2.77696300e+00, -1.58022344e+00,\n",
            "               -1.37132287e+00, -2.09893203e+00, -2.75386310e+00, -1.11749017e+00,\n",
            "               -2.71206880e+00, -1.36586875e-01, -2.28082204e+00, -2.08041620e+00,\n",
            "               -1.19164348e+00, -3.48241210e+00, -2.08794141e+00, -2.37429619e+00,\n",
            "                4.71456796e-01, -1.03731298e+00, -8.89802694e-01, -7.11736143e-01,\n",
            "               -7.44073212e-01, -1.20882177e+00, -1.10168684e+00, -1.51790246e-01,\n",
            "               -5.94592512e-01, -1.07656777e+00,  7.01792315e-02,  2.99159110e-01,\n",
            "               -6.80263877e-01, -9.63763893e-01, -6.84093654e-01, -9.06178534e-01,\n",
            "               -1.50708413e+00, -1.03789067e+00, -5.93708873e-01, -1.85592651e+00,\n",
            "               -1.09616756e+00, -1.45142782e+00,  2.88655615e+00, -1.46954846e+00,\n",
            "               -2.37533450e+00, -1.22752357e+00, -2.07751346e+00, -2.83193970e+00,\n",
            "               -3.11812520e+00, -2.60999990e+00, -1.30326545e+00, -2.50356293e+00,\n",
            "               -3.82850558e-01, -2.02327561e+00,  4.52022314e+00,  6.01421237e-01,\n",
            "                3.47246456e+00,  3.55016470e-01,  2.88742757e+00,  3.74601078e+00,\n",
            "                3.25191116e+00,  2.24533868e+00,  2.49518585e+00,  4.85239267e+00,\n",
            "                3.26760435e+00, -3.19980942e-02,  3.16713333e-01, -1.61651582e-01,\n",
            "                1.79614770e+00, -4.76642758e-01, -1.60685360e-01, -2.17044204e-01,\n",
            "               -1.26234919e-01,  1.02208281e+00, -6.25536442e-02, -1.94391906e-01,\n",
            "               -1.11357287e-01, -7.49423087e-01, -9.29277599e-01,  2.14324757e-01,\n",
            "                4.28924978e-01, -6.92171097e-01,  4.59653795e-01, -9.37511802e-01],\n",
            "              dtype=float32),\n",
            "    }>,\n",
            "}>\n"
          ]
        }
      ]
    },
    {
      "metadata": {
        "id": "d6fba8ef09ee497c"
      },
      "cell_type": "markdown",
      "source": [
        "Now let's see what the generated predictions tell us"
      ],
      "id": "d6fba8ef09ee497c"
    },
    {
      "metadata": {
        "id": "aff087513d6e0199",
        "outputId": "c7f3f52a-a478-4a09-8708-7f3692573ec2",
        "colab": {
          "base_uri": "https://localhost:8080/"
        }
      },
      "cell_type": "code",
      "outputs": [
        {
          "output_type": "stream",
          "name": "stdout",
          "text": [
            "There are 1000 logits\n",
            "\n",
            "Here are all the logits\n",
            "tensor([ 0.6507, -1.4213, -0.5859, -0.8789, -0.5630, -0.8333, -0.6420,  0.3065,\n",
            "         0.2298,  2.0134, -0.0829, -0.4339,  0.5695, -0.1943, -0.9017,  0.7547,\n",
            "         0.1513,  0.3110,  0.8502,  0.5325,  1.4155,  1.5713,  2.0315,  2.4502,\n",
            "         1.1756])\n",
            "\n",
            "Here are all the confidence scores\n",
            "tensor([6.2269e-04, 7.8414e-05, 1.8080e-04, 1.3488e-04, 1.8500e-04, 1.4118e-04,\n",
            "        1.7094e-04, 4.4135e-04, 4.0875e-04, 2.4326e-03, 2.9899e-04, 2.1047e-04,\n",
            "        5.7411e-04, 2.6746e-04, 1.3184e-04, 6.9092e-04, 3.7791e-04, 4.4331e-04,\n",
            "        7.6014e-04, 5.5326e-04, 1.3379e-03, 1.5634e-03, 2.4770e-03, 3.7649e-03,\n",
            "        1.0525e-03])\n",
            "Top 5 confidence values: tensor([0.0430, 0.0416, 0.0298, 0.0259, 0.0149])\n",
            "Their indices: tensor([349, 979, 970, 350, 672])\n",
            "\n",
            "Predictions in descending confidence:\n",
            "\n",
            "Prediction: bighorn \tConfidence: 0.04295031726360321\n",
            "Prediction: valley \tConfidence: 0.04159349575638771\n",
            "Prediction: alp \tConfidence: 0.029837749898433685\n",
            "Prediction: ibex \tConfidence: 0.025872977450489998\n",
            "Prediction: mountain tent \tConfidence: 0.014889746904373169\n"
          ]
        }
      ],
      "execution_count": 24,
      "source": [
        "import torch.nn.functional as TF\n",
        "import torch\n",
        "\n",
        "model_classes = resnet18_imagenet_model.classes\n",
        "logits = torch.from_numpy(horse_valley[\"rn18_in_predictions\"][\"logits\"])\n",
        "\n",
        "print(\"There are \" + str(len(logits))+ \" logits\")\n",
        "\n",
        "print(\"\\nHere are all the logits\")\n",
        "print(str(logits[:25]))\n",
        "\n",
        "confidences = TF.softmax(logits, dim=0)\n",
        "print(\"\\nHere are all the confidence scores\")\n",
        "print(str(confidences[:25]))\n",
        "\n",
        "# Get top 5 values and their indices\n",
        "top_values, top_indices = torch.topk(confidences, k=5)\n",
        "\n",
        "print(\"Top 5 confidence values:\", top_values)\n",
        "print(\"Their indices:\", top_indices)\n",
        "\n",
        "print(\"\\nPredictions in descending confidence:\\n\")\n",
        "for idx, value in zip(top_indices.tolist(), top_values.tolist()):\n",
        "    print(\"Prediction: \" + model_classes[idx] + \" \\tConfidence: \" + str(value))"
      ],
      "id": "aff087513d6e0199"
    },
    {
      "metadata": {
        "id": "4c56f098f03ffad1"
      },
      "cell_type": "markdown",
      "source": [
        "### Discussing the results\n",
        "\n",
        "1. What are some of the main things you noticed about the predictions?\n",
        "2. Were the predicted classes surprising to you? Were they useful for our problem?\n",
        "3. Take home bonus - What did changing the number of workers do?\n",
        "\n",
        "Here are the important ideas I wanted you to take away\n",
        "\n",
        "1. The model only can predict classes it was trained on\n",
        "2. The model will associate the most similar images of its training data to the current image and then give it that class\n"
      ],
      "id": "4c56f098f03ffad1"
    },
    {
      "metadata": {
        "id": "1934b525e27e92b8"
      },
      "cell_type": "markdown",
      "source": [
        "## Another ResNet Model\n",
        "\n",
        "To demonstrate the importance of training data, we are going to run another ResNet18 model, except I trained this model on [Pokemon images](https://huggingface.co/datasets/TheSteve0/pokemon).\n",
        "\n",
        "I put the model weights file in our shared drive.\n",
        "\n",
        "To use this model we are going to:\n",
        "1. Load the model into pytorch\n",
        "2. Run the model against our Flickr images\n",
        "3. Associate the classification labels back to our FiftyOne dataset\n",
        "4. View the results"
      ],
      "id": "1934b525e27e92b8"
    },
    {
      "metadata": {
        "jupyter": {
          "is_executing": true
        },
        "id": "4d0c4709340ef662",
        "outputId": "1d1fbd51-1bc1-436e-9379-16f69c41967e",
        "colab": {
          "base_uri": "https://localhost:8080/",
          "height": 192,
          "referenced_widgets": [
            "05a023b678314bdc955f1fcaaecb5714",
            "44cd6f9487964d62bb989d8889d07912",
            "33247d7670734e7a98e19361f8b4725d",
            "f332a0da18d349a1b212e9a37be41b65",
            "4593d3e113e84660882922d48934f97c",
            "0e8f635099334bf288ed3fb352b5796b",
            "322b0541b51248afb98fe13521cfd37e",
            "d9507b9d7bd844cb83274d8a569994f9",
            "a91afbbfb1d24a90aee9f830f8325df2",
            "32ba0cd4921d42429dc2f4fcb31edc4e",
            "d9f3d1f2e21546f780d66f9338212842"
          ]
        }
      },
      "cell_type": "code",
      "source": [
        "pokemon_class_labels = {0: \"Abra\", 1: \"Aerodactyl\", 2: \"Alakazam\", 3: \"Alolan Sandslash\", 4: \"Arbok\", 5: \"Arcanine\", 6: \"Articuno\", 7: \"Beedrill\", 8: \"Bellsprout\", 9: \"Blastoise\", 10: \"Bulbasaur\", 11: \"Butterfree\", 12: \"Caterpie\", 13: \"Chansey\", 14: \"Charizard\", 15: \"Charmander\", 16: \"Charmeleon\", 17: \"Clefable\", 18: \"Clefairy\", 19: \"Cloyster\", 20: \"Cubone\", 21: \"Dewgong\", 22: \"Diglett\", 23: \"Ditto\", 24: \"Dodrio\", 25: \"Doduo\", 26: \"Dragonair\", 27: \"Dragonite\", 28: \"Dratini\", 29: \"Drowzee\", 30: \"Dugtrio\", 31: \"Eevee\", 32: \"Ekans\", 33: \"Electabuzz\", 34: \"Electrode\", 35: \"Exeggcute\", 36: \"Exeggutor\", 37: \"Farfetchd\", 38: \"Fearow\", 39: \"Flareon\", 40: \"Gastly\", 41: \"Gengar\", 42: \"Geodude\", 43: \"Gloom\", 44: \"Golbat\", 45: \"Goldeen\", 46: \"Golduck\", 47: \"Golem\", 48: \"Graveler\", 49: \"Grimer\", 50: \"Growlithe\", 51: \"Gyarados\", 52: \"Haunter\", 53: \"Hitmonchan\", 54: \"Hitmonlee\", 55: \"Horsea\", 56: \"Hypno\", 57: \"Ivysaur\", 58: \"Jigglypuff\", 59: \"Jolteon\", 60: \"Jynx\", 61: \"Kabuto\", 62: \"Kabutops\", 63: \"Kadabra\", 64: \"Kakuna\", 65: \"Kangaskhan\", 66: \"Kingler\", 67: \"Koffing\", 68: \"Krabby\", 69: \"Lapras\", 70: \"Lickitung\", 71: \"Machamp\", 72: \"Machoke\", 73: \"Machop\", 74: \"Magikarp\", 75: \"Magmar\", 76: \"Magnemite\", 77: \"Magneton\", 78: \"Mankey\", 79: \"Marowak\", 80: \"Meowth\", 81: \"Metapod\", 82: \"Mew\", 83: \"Mewtwo\", 84: \"Moltres\", 85: \"MrMime\", 86: \"Muk\", 87: \"Nidoking\", 88: \"Nidoqueen\", 89: \"Nidorina\", 90: \"Nidorino\", 91: \"Ninetales\", 92: \"Oddish\", 93: \"Omanyte\", 94: \"Omastar\", 95: \"Onix\", 96: \"Paras\", 97: \"Parasect\", 98: \"Persian\", 99: \"Pidgeot\", 100: \"Pidgeotto\", 101: \"Pidgey\", 102: \"Pikachu\", 103: \"Pinsir\", 104: \"Poliwag\", 105: \"Poliwhirl\", 106: \"Poliwrath\", 107: \"Wigglytuff\", 108: \"Zapdos\", 109: \"Zubat\"}\n",
        "\n",
        "\n",
        "import torch\n",
        "import torchvision.models as models\n",
        "import torchvision.transforms.v2 as T\n",
        "from PIL import Image\n",
        "import fiftyone as fo\n",
        "from tqdm.notebook import tqdm\n",
        "import pickle\n",
        "import os\n",
        "from torch.utils.data import Dataset, DataLoader\n",
        "import torch.amp as amp\n",
        "\n",
        "# Enable CUDA optimization\n",
        "torch.backends.cudnn.benchmark = True\n",
        "\n",
        "# Device configuration\n",
        "device = torch.device(\"cuda\" if torch.cuda.is_available() else \"cpu\")\n",
        "print(f\"Using device: {device}\")\n",
        "\n",
        "# Load model using pickle\n",
        "with open('/content/drive/MyDrive/impatient-cv/pokemon-classification-model.pt', 'rb') as f:\n",
        "    state_dict = pickle.load(f)\n",
        "\n",
        "# Create a ResNet18 model with no pre-trained weights\n",
        "model = models.resnet18(weights=None)\n",
        "\n",
        "# Modify the final layer to match the trained model's 150 output classes --150 pokemon\n",
        "model.fc = torch.nn.Linear(model.fc.in_features, 150)\n",
        "\n",
        "# Check if keys have the nested prefix and remove it\n",
        "if any(k.startswith('model.model.') for k in state_dict.keys()):\n",
        "    new_state_dict = {k.replace('model.model.', ''): v for k, v in state_dict.items()}\n",
        "    state_dict = new_state_dict\n",
        "elif any(k.startswith('model.') for k in state_dict.keys()):\n",
        "    new_state_dict = {k.replace('model.', ''): v for k, v in state_dict.items()}\n",
        "    state_dict = new_state_dict\n",
        "\n",
        "# Load the state dict into the model\n",
        "model.load_state_dict(state_dict)\n",
        "model.to(device)\n",
        "model.eval()\n",
        "\n",
        "# pre-processing transforms we did for model training\n",
        "transform = T.Compose([\n",
        "    T.ToImage(),\n",
        "    T.RGB(),\n",
        "    T.ToDtype(torch.float32, scale=True),\n",
        "    T.Resize(224),\n",
        "    T.CenterCrop(224),\n",
        "])\n",
        "\n",
        "# Load your FiftyOne dataset is already done in the notebook\n",
        "\n",
        "# Optional: Define class mapping for Pokemon species (if available)\n",
        "# class_names = {0: \"Pikachu\", 1: \"Charizard\", ...}\n",
        "class_names = pokemon_class_labels  # Set to None if unavailable\n",
        "\n",
        "# Custom dataset for parallel loading\n",
        "class PokemonDataset(Dataset):\n",
        "    def __init__(self, sample_ids, filepaths, transform=None):\n",
        "        self.sample_ids = sample_ids\n",
        "        self.filepaths = filepaths\n",
        "        self.transform = transform\n",
        "\n",
        "    def __len__(self):\n",
        "        return len(self.filepaths)\n",
        "\n",
        "    def __getitem__(self, idx):\n",
        "        sample_id = self.sample_ids[idx]\n",
        "        filepath = self.filepaths[idx]\n",
        "\n",
        "        image = Image.open(filepath).convert('RGB')\n",
        "        if self.transform:\n",
        "            image = self.transform(image)\n",
        "        return sample_id, image\n",
        "\n",
        "# Extract sample IDs and filepaths\n",
        "sample_ids = dataset.values(\"id\")\n",
        "filepaths = dataset.values(\"filepath\")\n",
        "\n",
        "# Create dataset and dataloader for parallel processing\n",
        "pokemon_dataset = PokemonDataset(sample_ids, filepaths, transform)\n",
        "dataloader = DataLoader(\n",
        "    pokemon_dataset,\n",
        "    batch_size=64,  # Larger batch size for GPU efficiency\n",
        "    num_workers=2,  # Reduced worker count to avoid warnings\n",
        "    pin_memory=True  # Faster data transfer to GPU\n",
        ")\n",
        "\n",
        "# Prepare for mixed precision if supported\n",
        "scaler = amp.GradScaler(enabled=True)\n",
        "\n",
        "# Create a list to store FiftyOne Classification objects\n",
        "all_classifications = [None] * len(sample_ids)\n",
        "\n",
        "# Process in batches\n",
        "with torch.no_grad():\n",
        "    for batch_ids, images in tqdm(dataloader):\n",
        "        # Move images to device\n",
        "        images = images.to(device, non_blocking=True)\n",
        "\n",
        "        # Run inference with mixed precision\n",
        "        with amp.autocast('cuda', enabled=True):\n",
        "            outputs = model(images)\n",
        "            probs = torch.nn.functional.softmax(outputs, dim=1)\n",
        "            confidences, predictions = torch.max(probs, dim=1)\n",
        "\n",
        "        # Get results from GPU\n",
        "        predictions = predictions.cpu().numpy()\n",
        "        confidences = confidences.cpu().numpy()\n",
        "\n",
        "        # Store results as FiftyOne Classification objects\n",
        "        for i, sample_id in enumerate(batch_ids):\n",
        "            # Find index in the original arrays\n",
        "            idx = sample_ids.index(sample_id)\n",
        "\n",
        "            pred_idx = int(predictions[i])\n",
        "            confidence = float(confidences[i])\n",
        "\n",
        "            # Get class name if mapping exists\n",
        "            if class_names is not None:\n",
        "                pred_label = class_names.get(pred_idx, f\"Unknown({pred_idx})\")\n",
        "            else:\n",
        "                # If no class names mapping, use stringified index as label\n",
        "                pred_label = str(pred_idx)\n",
        "\n",
        "            # Create a FiftyOne Classification object\n",
        "            classification = fo.Classification(\n",
        "                label=pred_label,\n",
        "                confidence=confidence\n",
        "            )\n",
        "\n",
        "            all_classifications[idx] = classification\n",
        "\n",
        "# Use set_values to update all samples with classification objects in a single batch operation\n",
        "dataset.set_values(\"pokemon_classification\", all_classifications)\n",
        "\n",
        "# Save dataset\n",
        "dataset.save()\n",
        "\n",
        "print(\"\\nFinished classifying\\n\\n\")\n",
        "\n",
        "session = fo.launch_app(dataset, auto=False)\n",
        "session.url"
      ],
      "id": "4d0c4709340ef662",
      "outputs": [
        {
          "output_type": "stream",
          "name": "stdout",
          "text": [
            "Using device: cuda\n"
          ]
        },
        {
          "output_type": "display_data",
          "data": {
            "text/plain": [
              "  0%|          | 0/5 [00:00<?, ?it/s]"
            ],
            "application/vnd.jupyter.widget-view+json": {
              "version_major": 2,
              "version_minor": 0,
              "model_id": "05a023b678314bdc955f1fcaaecb5714"
            }
          },
          "metadata": {}
        },
        {
          "output_type": "stream",
          "name": "stdout",
          "text": [
            "\n",
            "Finished classifying\n",
            "\n",
            "\n",
            "Session launched. Run `session.show()` to open the App in a cell output.\n"
          ]
        },
        {
          "output_type": "stream",
          "name": "stderr",
          "text": [
            "INFO:fiftyone.core.session.session:Session launched. Run `session.show()` to open the App in a cell output.\n"
          ]
        },
        {
          "output_type": "execute_result",
          "data": {
            "text/plain": [
              "'https://5151-gpu-t4-s-laa75geddc9l-b.us-west4-1.prod.colab.dev?polling=true'"
            ],
            "application/vnd.google.colaboratory.intrinsic+json": {
              "type": "string"
            }
          },
          "metadata": {},
          "execution_count": 25
        }
      ],
      "execution_count": 25
    },
    {
      "metadata": {
        "id": "54766fccb120fb44"
      },
      "cell_type": "markdown",
      "source": [
        "## Wrap up\n",
        "\n",
        "And with that we are done with classification. In the next notebook, we are going to reuse these models to demonstrate the importance of data when doing embeddings\n",
        "\n",
        "[Embdeddings](https://github.com/thesteve0/impatient-computer-vision/blob/main/3_embeddings.ipynb)"
      ],
      "id": "54766fccb120fb44"
    }
  ],
  "metadata": {
    "kernelspec": {
      "display_name": "Python 3",
      "name": "python3"
    },
    "language_info": {
      "codemirror_mode": {
        "name": "ipython",
        "version": 2
      },
      "file_extension": ".py",
      "mimetype": "text/x-python",
      "name": "python",
      "nbconvert_exporter": "python",
      "pygments_lexer": "ipython2",
      "version": "2.7.6"
    },
    "colab": {
      "provenance": [],
      "toc_visible": true,
      "gpuType": "T4"
    },
    "accelerator": "GPU",
    "widgets": {
      "application/vnd.jupyter.widget-state+json": {
        "05a023b678314bdc955f1fcaaecb5714": {
          "model_module": "@jupyter-widgets/controls",
          "model_name": "HBoxModel",
          "model_module_version": "1.5.0",
          "state": {
            "_dom_classes": [],
            "_model_module": "@jupyter-widgets/controls",
            "_model_module_version": "1.5.0",
            "_model_name": "HBoxModel",
            "_view_count": null,
            "_view_module": "@jupyter-widgets/controls",
            "_view_module_version": "1.5.0",
            "_view_name": "HBoxView",
            "box_style": "",
            "children": [
              "IPY_MODEL_44cd6f9487964d62bb989d8889d07912",
              "IPY_MODEL_33247d7670734e7a98e19361f8b4725d",
              "IPY_MODEL_f332a0da18d349a1b212e9a37be41b65"
            ],
            "layout": "IPY_MODEL_4593d3e113e84660882922d48934f97c"
          }
        },
        "44cd6f9487964d62bb989d8889d07912": {
          "model_module": "@jupyter-widgets/controls",
          "model_name": "HTMLModel",
          "model_module_version": "1.5.0",
          "state": {
            "_dom_classes": [],
            "_model_module": "@jupyter-widgets/controls",
            "_model_module_version": "1.5.0",
            "_model_name": "HTMLModel",
            "_view_count": null,
            "_view_module": "@jupyter-widgets/controls",
            "_view_module_version": "1.5.0",
            "_view_name": "HTMLView",
            "description": "",
            "description_tooltip": null,
            "layout": "IPY_MODEL_0e8f635099334bf288ed3fb352b5796b",
            "placeholder": "​",
            "style": "IPY_MODEL_322b0541b51248afb98fe13521cfd37e",
            "value": "100%"
          }
        },
        "33247d7670734e7a98e19361f8b4725d": {
          "model_module": "@jupyter-widgets/controls",
          "model_name": "FloatProgressModel",
          "model_module_version": "1.5.0",
          "state": {
            "_dom_classes": [],
            "_model_module": "@jupyter-widgets/controls",
            "_model_module_version": "1.5.0",
            "_model_name": "FloatProgressModel",
            "_view_count": null,
            "_view_module": "@jupyter-widgets/controls",
            "_view_module_version": "1.5.0",
            "_view_name": "ProgressView",
            "bar_style": "success",
            "description": "",
            "description_tooltip": null,
            "layout": "IPY_MODEL_d9507b9d7bd844cb83274d8a569994f9",
            "max": 5,
            "min": 0,
            "orientation": "horizontal",
            "style": "IPY_MODEL_a91afbbfb1d24a90aee9f830f8325df2",
            "value": 5
          }
        },
        "f332a0da18d349a1b212e9a37be41b65": {
          "model_module": "@jupyter-widgets/controls",
          "model_name": "HTMLModel",
          "model_module_version": "1.5.0",
          "state": {
            "_dom_classes": [],
            "_model_module": "@jupyter-widgets/controls",
            "_model_module_version": "1.5.0",
            "_model_name": "HTMLModel",
            "_view_count": null,
            "_view_module": "@jupyter-widgets/controls",
            "_view_module_version": "1.5.0",
            "_view_name": "HTMLView",
            "description": "",
            "description_tooltip": null,
            "layout": "IPY_MODEL_32ba0cd4921d42429dc2f4fcb31edc4e",
            "placeholder": "​",
            "style": "IPY_MODEL_d9f3d1f2e21546f780d66f9338212842",
            "value": " 5/5 [00:03&lt;00:00,  1.72it/s]"
          }
        },
        "4593d3e113e84660882922d48934f97c": {
          "model_module": "@jupyter-widgets/base",
          "model_name": "LayoutModel",
          "model_module_version": "1.2.0",
          "state": {
            "_model_module": "@jupyter-widgets/base",
            "_model_module_version": "1.2.0",
            "_model_name": "LayoutModel",
            "_view_count": null,
            "_view_module": "@jupyter-widgets/base",
            "_view_module_version": "1.2.0",
            "_view_name": "LayoutView",
            "align_content": null,
            "align_items": null,
            "align_self": null,
            "border": null,
            "bottom": null,
            "display": null,
            "flex": null,
            "flex_flow": null,
            "grid_area": null,
            "grid_auto_columns": null,
            "grid_auto_flow": null,
            "grid_auto_rows": null,
            "grid_column": null,
            "grid_gap": null,
            "grid_row": null,
            "grid_template_areas": null,
            "grid_template_columns": null,
            "grid_template_rows": null,
            "height": null,
            "justify_content": null,
            "justify_items": null,
            "left": null,
            "margin": null,
            "max_height": null,
            "max_width": null,
            "min_height": null,
            "min_width": null,
            "object_fit": null,
            "object_position": null,
            "order": null,
            "overflow": null,
            "overflow_x": null,
            "overflow_y": null,
            "padding": null,
            "right": null,
            "top": null,
            "visibility": null,
            "width": null
          }
        },
        "0e8f635099334bf288ed3fb352b5796b": {
          "model_module": "@jupyter-widgets/base",
          "model_name": "LayoutModel",
          "model_module_version": "1.2.0",
          "state": {
            "_model_module": "@jupyter-widgets/base",
            "_model_module_version": "1.2.0",
            "_model_name": "LayoutModel",
            "_view_count": null,
            "_view_module": "@jupyter-widgets/base",
            "_view_module_version": "1.2.0",
            "_view_name": "LayoutView",
            "align_content": null,
            "align_items": null,
            "align_self": null,
            "border": null,
            "bottom": null,
            "display": null,
            "flex": null,
            "flex_flow": null,
            "grid_area": null,
            "grid_auto_columns": null,
            "grid_auto_flow": null,
            "grid_auto_rows": null,
            "grid_column": null,
            "grid_gap": null,
            "grid_row": null,
            "grid_template_areas": null,
            "grid_template_columns": null,
            "grid_template_rows": null,
            "height": null,
            "justify_content": null,
            "justify_items": null,
            "left": null,
            "margin": null,
            "max_height": null,
            "max_width": null,
            "min_height": null,
            "min_width": null,
            "object_fit": null,
            "object_position": null,
            "order": null,
            "overflow": null,
            "overflow_x": null,
            "overflow_y": null,
            "padding": null,
            "right": null,
            "top": null,
            "visibility": null,
            "width": null
          }
        },
        "322b0541b51248afb98fe13521cfd37e": {
          "model_module": "@jupyter-widgets/controls",
          "model_name": "DescriptionStyleModel",
          "model_module_version": "1.5.0",
          "state": {
            "_model_module": "@jupyter-widgets/controls",
            "_model_module_version": "1.5.0",
            "_model_name": "DescriptionStyleModel",
            "_view_count": null,
            "_view_module": "@jupyter-widgets/base",
            "_view_module_version": "1.2.0",
            "_view_name": "StyleView",
            "description_width": ""
          }
        },
        "d9507b9d7bd844cb83274d8a569994f9": {
          "model_module": "@jupyter-widgets/base",
          "model_name": "LayoutModel",
          "model_module_version": "1.2.0",
          "state": {
            "_model_module": "@jupyter-widgets/base",
            "_model_module_version": "1.2.0",
            "_model_name": "LayoutModel",
            "_view_count": null,
            "_view_module": "@jupyter-widgets/base",
            "_view_module_version": "1.2.0",
            "_view_name": "LayoutView",
            "align_content": null,
            "align_items": null,
            "align_self": null,
            "border": null,
            "bottom": null,
            "display": null,
            "flex": null,
            "flex_flow": null,
            "grid_area": null,
            "grid_auto_columns": null,
            "grid_auto_flow": null,
            "grid_auto_rows": null,
            "grid_column": null,
            "grid_gap": null,
            "grid_row": null,
            "grid_template_areas": null,
            "grid_template_columns": null,
            "grid_template_rows": null,
            "height": null,
            "justify_content": null,
            "justify_items": null,
            "left": null,
            "margin": null,
            "max_height": null,
            "max_width": null,
            "min_height": null,
            "min_width": null,
            "object_fit": null,
            "object_position": null,
            "order": null,
            "overflow": null,
            "overflow_x": null,
            "overflow_y": null,
            "padding": null,
            "right": null,
            "top": null,
            "visibility": null,
            "width": null
          }
        },
        "a91afbbfb1d24a90aee9f830f8325df2": {
          "model_module": "@jupyter-widgets/controls",
          "model_name": "ProgressStyleModel",
          "model_module_version": "1.5.0",
          "state": {
            "_model_module": "@jupyter-widgets/controls",
            "_model_module_version": "1.5.0",
            "_model_name": "ProgressStyleModel",
            "_view_count": null,
            "_view_module": "@jupyter-widgets/base",
            "_view_module_version": "1.2.0",
            "_view_name": "StyleView",
            "bar_color": null,
            "description_width": ""
          }
        },
        "32ba0cd4921d42429dc2f4fcb31edc4e": {
          "model_module": "@jupyter-widgets/base",
          "model_name": "LayoutModel",
          "model_module_version": "1.2.0",
          "state": {
            "_model_module": "@jupyter-widgets/base",
            "_model_module_version": "1.2.0",
            "_model_name": "LayoutModel",
            "_view_count": null,
            "_view_module": "@jupyter-widgets/base",
            "_view_module_version": "1.2.0",
            "_view_name": "LayoutView",
            "align_content": null,
            "align_items": null,
            "align_self": null,
            "border": null,
            "bottom": null,
            "display": null,
            "flex": null,
            "flex_flow": null,
            "grid_area": null,
            "grid_auto_columns": null,
            "grid_auto_flow": null,
            "grid_auto_rows": null,
            "grid_column": null,
            "grid_gap": null,
            "grid_row": null,
            "grid_template_areas": null,
            "grid_template_columns": null,
            "grid_template_rows": null,
            "height": null,
            "justify_content": null,
            "justify_items": null,
            "left": null,
            "margin": null,
            "max_height": null,
            "max_width": null,
            "min_height": null,
            "min_width": null,
            "object_fit": null,
            "object_position": null,
            "order": null,
            "overflow": null,
            "overflow_x": null,
            "overflow_y": null,
            "padding": null,
            "right": null,
            "top": null,
            "visibility": null,
            "width": null
          }
        },
        "d9f3d1f2e21546f780d66f9338212842": {
          "model_module": "@jupyter-widgets/controls",
          "model_name": "DescriptionStyleModel",
          "model_module_version": "1.5.0",
          "state": {
            "_model_module": "@jupyter-widgets/controls",
            "_model_module_version": "1.5.0",
            "_model_name": "DescriptionStyleModel",
            "_view_count": null,
            "_view_module": "@jupyter-widgets/base",
            "_view_module_version": "1.2.0",
            "_view_name": "StyleView",
            "description_width": ""
          }
        }
      }
    }
  },
  "nbformat": 4,
  "nbformat_minor": 5
}